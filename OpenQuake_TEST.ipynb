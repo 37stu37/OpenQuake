{
  "nbformat": 4,
  "nbformat_minor": 0,
  "metadata": {
    "colab": {
      "name": "OpenQuake_TEST.ipynb",
      "provenance": [],
      "machine_shape": "hm",
      "include_colab_link": true
    },
    "kernelspec": {
      "name": "python3",
      "display_name": "Python 3"
    }
  },
  "cells": [
    {
      "cell_type": "markdown",
      "metadata": {
        "id": "view-in-github",
        "colab_type": "text"
      },
      "source": [
        "<a href=\"https://colab.research.google.com/github/37stu37/OpenQuake/blob/master/OpenQuake_TEST.ipynb\" target=\"_parent\"><img src=\"https://colab.research.google.com/assets/colab-badge.svg\" alt=\"Open In Colab\"/></a>"
      ]
    },
    {
      "cell_type": "markdown",
      "metadata": {
        "id": "RxZNLdfcmOUm",
        "colab_type": "text"
      },
      "source": [
        "#Install Colab / OpenQuake"
      ]
    },
    {
      "cell_type": "code",
      "metadata": {
        "id": "4vYwwf5aCFKd",
        "colab_type": "code",
        "colab": {
          "base_uri": "https://localhost:8080/",
          "height": 128
        },
        "outputId": "a4735ae1-a496-4add-aee2-5aadae006483"
      },
      "source": [
        "from google.colab import drive\n",
        "drive.mount('/content/drive')"
      ],
      "execution_count": null,
      "outputs": [
        {
          "output_type": "stream",
          "text": [
            "Go to this URL in a browser: https://accounts.google.com/o/oauth2/auth?client_id=947318989803-6bn6qk8qdgf4n4g3pfee6491hc0brc4i.apps.googleusercontent.com&redirect_uri=urn%3aietf%3awg%3aoauth%3a2.0%3aoob&response_type=code&scope=email%20https%3a%2f%2fwww.googleapis.com%2fauth%2fdocs.test%20https%3a%2f%2fwww.googleapis.com%2fauth%2fdrive%20https%3a%2f%2fwww.googleapis.com%2fauth%2fdrive.photos.readonly%20https%3a%2f%2fwww.googleapis.com%2fauth%2fpeopleapi.readonly\n",
            "\n",
            "Enter your authorization code:\n",
            "··········\n",
            "Mounted at /content/drive\n"
          ],
          "name": "stdout"
        }
      ]
    },
    {
      "cell_type": "code",
      "metadata": {
        "id": "e8ON2byeXAxq",
        "colab_type": "code",
        "colab": {}
      },
      "source": [
        "%%capture\n",
        "!pip install openquake.engine"
      ],
      "execution_count": null,
      "outputs": []
    },
    {
      "cell_type": "markdown",
      "metadata": {
        "id": "4lPmf1qpmUf_",
        "colab_type": "text"
      },
      "source": [
        "#Import libraries / paths"
      ]
    },
    {
      "cell_type": "code",
      "metadata": {
        "id": "T9Yk3bRjgmTs",
        "colab_type": "code",
        "colab": {}
      },
      "source": [
        "import openquake\n",
        "import configparser\n",
        "import os\n",
        "from pathlib import Path\n",
        "import configparser"
      ],
      "execution_count": null,
      "outputs": []
    },
    {
      "cell_type": "code",
      "metadata": {
        "id": "4WevjMAHCdAU",
        "colab_type": "code",
        "colab": {}
      },
      "source": [
        "folder = Path('/content/drive/My Drive/Colab Notebooks/01_Repository/OpenQuake/InputsforPacoFFE')\n",
        "# files = folder / 'oqInput_EventBasedPSHA'"
      ],
      "execution_count": null,
      "outputs": []
    },
    {
      "cell_type": "code",
      "metadata": {
        "id": "ZtNOR9Oae93i",
        "colab_type": "code",
        "colab": {
          "base_uri": "https://localhost:8080/",
          "height": 35
        },
        "outputId": "631f76b3-ca15-44fc-e03a-5fbb284eee7f"
      },
      "source": [
        "os.chdir(folder)\n",
        "!pwd"
      ],
      "execution_count": null,
      "outputs": [
        {
          "output_type": "stream",
          "text": [
            "/content/drive/My Drive/Colab Notebooks/01_Repository/OpenQuake/InputsforPacoFFE\n"
          ],
          "name": "stdout"
        }
      ]
    },
    {
      "cell_type": "code",
      "metadata": {
        "id": "sQY6G3fEUdbq",
        "colab_type": "code",
        "colab": {
          "base_uri": "https://localhost:8080/",
          "height": 217
        },
        "outputId": "017e0449-6c03-4927-ab98-56942b6ad51e"
      },
      "source": [
        "!ls"
      ],
      "execution_count": null,
      "outputs": [
        {
          "output_type": "stream",
          "text": [
            "gmpe_logic_tree-CVH_BNZSEE_0317-GM-ASC.xml\n",
            "gmpe_logic_tree-CVH_BNZSEE_0317-GM-SI_BCHydro-only.xml\n",
            "job_HikWgtnmax.ini\n",
            "job_Test.ini\n",
            "Minerva_NZ_1km_avg_site-model.xml\n",
            "NZ5kmGridWGS1984.csv\n",
            "rupture_model-WairarapNich.xml\n",
            "rupture_model-Wairau.xml\n",
            "rupture_model-WellWHV.xml\n",
            "SA2_Pt_LongLat.csv\n",
            "vs30Polygoncentroids.xml\n"
          ],
          "name": "stdout"
        }
      ]
    },
    {
      "cell_type": "markdown",
      "metadata": {
        "id": "wQnRoeoAmdK0",
        "colab_type": "text"
      },
      "source": [
        "#Check ini file"
      ]
    },
    {
      "cell_type": "code",
      "metadata": {
        "id": "m6fEQkxFiJcc",
        "colab_type": "code",
        "colab": {}
      },
      "source": [
        "settings = configparser.ConfigParser()\n",
        "settings._interpolation = configparser.ExtendedInterpolation()\n",
        "# settings.read(folder / 'job_Test.ini')\n",
        "# ['settings.ini']\n",
        "# settings.sections()\n",
        "# ['SectionOne', 'SectionTwo', 'SectionThree']\n",
        "# settings.get('calculation', 'maximum_distance')"
      ],
      "execution_count": null,
      "outputs": []
    },
    {
      "cell_type": "code",
      "metadata": {
        "id": "mM5GSPYCWbu8",
        "colab_type": "code",
        "colab": {
          "base_uri": "https://localhost:8080/",
          "height": 217
        },
        "outputId": "d392baaa-3240-49ef-bab7-340978add950"
      },
      "source": [
        "!ls"
      ],
      "execution_count": null,
      "outputs": [
        {
          "output_type": "stream",
          "text": [
            "gmpe_logic_tree-CVH_BNZSEE_0317-GM-ASC.xml\n",
            "gmpe_logic_tree-CVH_BNZSEE_0317-GM-SI_BCHydro-only.xml\n",
            "job_HikWgtnmax.ini\n",
            "job_Test.ini\n",
            "Minerva_NZ_1km_avg_site-model.xml\n",
            "NZ5kmGridWGS1984.csv\n",
            "rupture_model-WairarapNich.xml\n",
            "rupture_model-Wairau.xml\n",
            "rupture_model-WellWHV.xml\n",
            "SA2_Pt_LongLat.csv\n",
            "vs30Polygoncentroids.xml\n"
          ],
          "name": "stdout"
        }
      ]
    },
    {
      "cell_type": "code",
      "metadata": {
        "id": "rLcXY63mWIOp",
        "colab_type": "code",
        "colab": {
          "base_uri": "https://localhost:8080/",
          "height": 35
        },
        "outputId": "2c28b017-9103-49ec-a388-9252b8c6e38f"
      },
      "source": [
        "settings.read('job_Test.ini')"
      ],
      "execution_count": null,
      "outputs": [
        {
          "output_type": "execute_result",
          "data": {
            "text/plain": [
              "[]"
            ]
          },
          "metadata": {
            "tags": []
          },
          "execution_count": 18
        }
      ]
    },
    {
      "cell_type": "markdown",
      "metadata": {
        "id": "dB06Zt66l4TS",
        "colab_type": "text"
      },
      "source": [
        "#Update the ini files "
      ]
    },
    {
      "cell_type": "code",
      "metadata": {
        "id": "jpXqMwDxi_EI",
        "colab_type": "code",
        "colab": {}
      },
      "source": [
        "# settings.set('calculation', 'maximum_distance', \"50\")\n",
        "# settings.get('calculation', 'maximum_distance')"
      ],
      "execution_count": null,
      "outputs": []
    },
    {
      "cell_type": "code",
      "metadata": {
        "id": "COaMypuulDCA",
        "colab_type": "code",
        "colab": {}
      },
      "source": [
        "# save ini files with changes\n",
        "with open(files / 'job_Test.ini', \"w\") as f:\n",
        "    settings.write(f)"
      ],
      "execution_count": null,
      "outputs": []
    },
    {
      "cell_type": "markdown",
      "metadata": {
        "id": "YJE4xkrCmEiG",
        "colab_type": "text"
      },
      "source": [
        "#Run OpenQuake"
      ]
    },
    {
      "cell_type": "markdown",
      "metadata": {
        "id": "hASoJjdM19aK",
        "colab_type": "text"
      },
      "source": [
        "***Shell commands seems to be working using the ! symbol - might be possible to run OpenQuake directly from GoogleColab***\n",
        "\n",
        "\n",
        "---\n",
        "\n"
      ]
    },
    {
      "cell_type": "code",
      "metadata": {
        "id": "Uajuc5Y4q0km",
        "colab_type": "code",
        "colab": {}
      },
      "source": [
        "# !oq engine --help"
      ],
      "execution_count": null,
      "outputs": []
    },
    {
      "cell_type": "code",
      "metadata": {
        "id": "6eBV3GslrPPu",
        "colab_type": "code",
        "colab": {}
      },
      "source": [
        "!oq engine --run job.ini --exports csv"
      ],
      "execution_count": null,
      "outputs": []
    }
  ]
}