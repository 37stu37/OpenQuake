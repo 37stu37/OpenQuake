{
  "nbformat": 4,
  "nbformat_minor": 0,
  "metadata": {
    "colab": {
      "name": "OpenQuake_hazardlib.ipynb",
      "provenance": [],
      "authorship_tag": "ABX9TyPvUsecXExql9nTsDA0Jh7+"
    },
    "kernelspec": {
      "name": "python3",
      "display_name": "Python 3"
    }
  },
  "cells": [
    {
      "cell_type": "code",
      "metadata": {
        "id": "_2BfupS1P0ID",
        "colab_type": "code",
        "outputId": "8ed935ed-fb3b-4d6f-952e-4d4269022f8c",
        "colab": {
          "base_uri": "https://localhost:8080/",
          "height": 34
        }
      },
      "source": [
        "# %%capture\n",
        "# !git clone https://github.com/gem/oq-engine.git"
      ],
      "execution_count": 0,
      "outputs": [
        {
          "output_type": "stream",
          "text": [
            "fatal: destination path 'oq-engine' already exists and is not an empty directory.\n"
          ],
          "name": "stdout"
        }
      ]
    },
    {
      "cell_type": "code",
      "metadata": {
        "id": "e8ON2byeXAxq",
        "colab_type": "code",
        "colab": {}
      },
      "source": [
        "%%capture\n",
        "!pip install openquake.engine"
      ],
      "execution_count": 0,
      "outputs": []
    },
    {
      "cell_type": "code",
      "metadata": {
        "id": "T9Yk3bRjgmTs",
        "colab_type": "code",
        "colab": {}
      },
      "source": [
        "from openquake import hazardlib"
      ],
      "execution_count": 0,
      "outputs": []
    },
    {
      "cell_type": "code",
      "metadata": {
        "id": "6R9wYB60ge9B",
        "colab_type": "code",
        "colab": {}
      },
      "source": [
        "dir(hazardlib)"
      ],
      "execution_count": 0,
      "outputs": []
    },
    {
      "cell_type": "code",
      "metadata": {
        "id": "39s96dyfgxgu",
        "colab_type": "code",
        "colab": {
          "base_uri": "https://localhost:8080/",
          "height": 663
        },
        "outputId": "b8610bf8-6f18-40cb-8bd8-8d83a4a2dbcc"
      },
      "source": [
        "help(openquake.hazardlib)"
      ],
      "execution_count": 26,
      "outputs": [
        {
          "output_type": "stream",
          "text": [
            "Help on package openquake.hazardlib in openquake:\n",
            "\n",
            "NAME\n",
            "    openquake.hazardlib - hazardlib stands for Hazard Library.\n",
            "\n",
            "PACKAGE CONTENTS\n",
            "    calc (package)\n",
            "    const\n",
            "    contexts\n",
            "    correlation\n",
            "    geo (package)\n",
            "    gsim (package)\n",
            "    imt\n",
            "    lt\n",
            "    mfd (package)\n",
            "    near_fault\n",
            "    nrml\n",
            "    pmf\n",
            "    probability_map\n",
            "    scalerel (package)\n",
            "    shakemap\n",
            "    shakemapconverter\n",
            "    site\n",
            "    site_amplification\n",
            "    source (package)\n",
            "    sourceconverter\n",
            "    sourcewriter\n",
            "    stats\n",
            "    tom\n",
            "    valid\n",
            "\n",
            "VERSION\n",
            "    3.9.0\n",
            "\n",
            "FILE\n",
            "    /usr/local/lib/python3.6/dist-packages/openquake/hazardlib/__init__.py\n",
            "\n",
            "\n"
          ],
          "name": "stdout"
        }
      ]
    },
    {
      "cell_type": "code",
      "metadata": {
        "id": "rpLiBeKtURjH",
        "colab_type": "code",
        "colab": {}
      },
      "source": [
        "%matplotlib inline\n",
        "\n",
        "import matplotlib.pyplot as plt\n",
        "import numpy as np"
      ],
      "execution_count": 0,
      "outputs": []
    },
    {
      "cell_type": "code",
      "metadata": {
        "id": "oCcBxXCkYFpp",
        "colab_type": "code",
        "colab": {}
      },
      "source": [
        "# time span for stochastic event set generation\n",
        "time_span = 1000.\n",
        "\n",
        "# define area source\n",
        "src = AreaSource(\n",
        "    source_id='1',\n",
        "    name='area',\n",
        "    tectonic_region_type='Active Shallow Crust',\n",
        "    mfd=TruncatedGRMFD(min_mag=5., max_mag=6.5, bin_width=0.2, a_val=4.45, b_val=0.98),\n",
        "    rupture_mesh_spacing=2.,\n",
        "    magnitude_scaling_relationship=WC1994(),\n",
        "    rupture_aspect_ratio=1.,\n",
        "    temporal_occurrence_model=PoissonTOM(time_span),\n",
        "    upper_seismogenic_depth=2.,\n",
        "    lower_seismogenic_depth=12.,\n",
        "    nodal_plane_distribution=PMF([(0.125, NodalPlane(strike=0, dip=90, rake=0)),\n",
        "                                  (0.125, NodalPlane(strike=45, dip=90, rake=0)),\n",
        "                                  (0.125, NodalPlane(strike=90, dip=90, rake=0)),\n",
        "                                  (0.125, NodalPlane(strike=135, dip=90, rake=0)),\n",
        "                                  (0.0625, NodalPlane(strike=0, dip=50, rake=90)),\n",
        "                                  (0.0625, NodalPlane(strike=45, dip=50, rake=90)),\n",
        "                                  (0.0625, NodalPlane(strike=90, dip=50, rake=90)),\n",
        "                                  (0.0625, NodalPlane(strike=135, dip=50, rake=90)),\n",
        "                                  (0.0625, NodalPlane(strike=180, dip=50, rake=90)),\n",
        "                                  (0.0625, NodalPlane(strike=225, dip=50, rake=90)),\n",
        "                                  (0.0625, NodalPlane(strike=270, dip=50, rake=90)),\n",
        "                                  (0.0625, NodalPlane(strike=315, dip=50, rake=90))]),\n",
        "    hypocenter_distribution=PMF([(1, 7.)]),\n",
        "    polygon=Polygon([Point(133.5, -22.5), Point(133.5, -23.0), Point(130.75, -23.75), Point(130.75, -24.5),\n",
        "                     Point(133.5, -26.0), Point(133.5, -27.0), Point(130.75, -27.0), Point(128.977, -25.065),\n",
        "                     Point(128.425, -23.436), Point(126.082, -23.233), Point(125.669, -22.351), Point(125.4, -20.5),\n",
        "                     Point(125.75, -20.25), Point(126.7, -21.25), Point(128.5, -21.25), Point(129.25, -20.6),\n",
        "                     Point(130.0, -20.6), Point(130.9, -22.25), Point(133.0, -22.0), Point(133.5, -22.5)]),\n",
        "    area_discretization=20.\n",
        ")"
      ],
      "execution_count": 0,
      "outputs": []
    },
    {
      "cell_type": "code",
      "metadata": {
        "id": "YRRLkHnoYNkS",
        "colab_type": "code",
        "colab": {}
      },
      "source": [
        "# generate two different stochastic event sets from the area source\n",
        "numpy.random.seed(123)\n",
        "\n",
        "# generate event and store them in lists\n",
        "ses1 = list(stochastic_event_set([src]))\n",
        "ses2 = list(stochastic_event_set([src]))"
      ],
      "execution_count": 0,
      "outputs": []
    },
    {
      "cell_type": "code",
      "metadata": {
        "id": "-IksAwyTYRL5",
        "colab_type": "code",
        "colab": {}
      },
      "source": [
        "# define map projection\n",
        "min_lon, max_lon, min_lat, max_lat, m = get_map_projection(src)"
      ],
      "execution_count": 0,
      "outputs": []
    },
    {
      "cell_type": "code",
      "metadata": {
        "id": "VIedW3oTYT6i",
        "colab_type": "code",
        "colab": {}
      },
      "source": [
        "# plot events for event set 1\n",
        "for i, ses in enumerate([ses1, ses2]):\n",
        "    fig = pyplot.figure(figsize=(10, 10), dpi=160)\n",
        "    \n",
        "    # m.drawparallels(numpy.arange(min_lat, max_lat, 1.), labels=[True, False, False, True])\n",
        "    # m.drawmeridians(numpy.arange(min_lon, max_lon, 1.), labels=[True, False, False, True])\n",
        "    m.drawcoastlines()\n",
        "    m.drawcountries()\n",
        "    \n",
        "    x, y = m(src.polygon.lons, src.polygon.lats)\n",
        "    m.plot(x, y, color='black', linewidth=2)\n",
        "    \n",
        "    for rup in ses:\n",
        "        strike = rup.surface.get_strike()\n",
        "        dip = rup.surface.get_dip()\n",
        "        rake = rup.rake\n",
        "        x, y = m(rup.hypocenter.longitude, rup.hypocenter.latitude)\n",
        "        [bb_width] = MAG_BB_WIDTHS[numpy.digitize([rup.mag], MAG_BINS) - 1]\n",
        "        [bb_color] = MAG_BB_COLORS[numpy.digitize([rup.mag], MAG_BINS) - 1]\n",
        "        beach = Beach([strike, dip, rake], linewidth=1, xy=(x, y),\n",
        "                      width=bb_width, zorder=bb_width, facecolor=bb_color)\n",
        "        pyplot.gca().add_collection(beach)\n",
        "    \n",
        "    create_ses_legend()\n",
        "    pyplot.title('Stochastic Event Set %s for time span of %s years' % (i, time_span), fontsize=20)"
      ],
      "execution_count": 0,
      "outputs": []
    },
    {
      "cell_type": "code",
      "metadata": {
        "id": "CaHPiC0ThRcr",
        "colab_type": "code",
        "colab": {}
      },
      "source": [
        ""
      ],
      "execution_count": 0,
      "outputs": []
    }
  ]
}