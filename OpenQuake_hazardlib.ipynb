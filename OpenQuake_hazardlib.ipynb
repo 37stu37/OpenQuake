{
  "nbformat": 4,
  "nbformat_minor": 0,
  "metadata": {
    "colab": {
      "name": "OpenQuake_hazardlib.ipynb",
      "provenance": [],
      "toc_visible": true,
      "machine_shape": "hm",
      "include_colab_link": true
    },
    "kernelspec": {
      "name": "python3",
      "display_name": "Python 3"
    },
    "accelerator": "GPU"
  },
  "cells": [
    {
      "cell_type": "markdown",
      "metadata": {
        "id": "view-in-github",
        "colab_type": "text"
      },
      "source": [
        "<a href=\"https://colab.research.google.com/github/37stu37/OpenQuake/blob/master/OpenQuake_hazardlib.ipynb\" target=\"_parent\"><img src=\"https://colab.research.google.com/assets/colab-badge.svg\" alt=\"Open In Colab\"/></a>"
      ]
    },
    {
      "cell_type": "markdown",
      "metadata": {
        "id": "RxZNLdfcmOUm",
        "colab_type": "text"
      },
      "source": [
        "#Install Colab / OpenQuake"
      ]
    },
    {
      "cell_type": "code",
      "metadata": {
        "id": "4vYwwf5aCFKd",
        "colab_type": "code",
        "colab": {
          "base_uri": "https://localhost:8080/",
          "height": 128
        },
        "outputId": "c28156e3-86e7-45b3-fa67-216f9e6a1d95"
      },
      "source": [
        "from google.colab import drive\n",
        "drive.mount('/content/drive')"
      ],
      "execution_count": 3,
      "outputs": [
        {
          "output_type": "stream",
          "text": [
            "Go to this URL in a browser: https://accounts.google.com/o/oauth2/auth?client_id=947318989803-6bn6qk8qdgf4n4g3pfee6491hc0brc4i.apps.googleusercontent.com&redirect_uri=urn%3aietf%3awg%3aoauth%3a2.0%3aoob&response_type=code&scope=email%20https%3a%2f%2fwww.googleapis.com%2fauth%2fdocs.test%20https%3a%2f%2fwww.googleapis.com%2fauth%2fdrive%20https%3a%2f%2fwww.googleapis.com%2fauth%2fdrive.photos.readonly%20https%3a%2f%2fwww.googleapis.com%2fauth%2fpeopleapi.readonly\n",
            "\n",
            "Enter your authorization code:\n",
            "··········\n",
            "Mounted at /content/drive\n"
          ],
          "name": "stdout"
        }
      ]
    },
    {
      "cell_type": "code",
      "metadata": {
        "id": "e8ON2byeXAxq",
        "colab_type": "code",
        "colab": {}
      },
      "source": [
        "%%capture\n",
        "!pip install openquake.engine"
      ],
      "execution_count": 4,
      "outputs": []
    },
    {
      "cell_type": "markdown",
      "metadata": {
        "id": "4lPmf1qpmUf_",
        "colab_type": "text"
      },
      "source": [
        "#Import libraries / paths"
      ]
    },
    {
      "cell_type": "code",
      "metadata": {
        "id": "T9Yk3bRjgmTs",
        "colab_type": "code",
        "colab": {}
      },
      "source": [
        "import openquake\n",
        "import configparser\n",
        "import os\n",
        "from pathlib import Path\n",
        "import configparser"
      ],
      "execution_count": 5,
      "outputs": []
    },
    {
      "cell_type": "code",
      "metadata": {
        "id": "4WevjMAHCdAU",
        "colab_type": "code",
        "colab": {}
      },
      "source": [
        "folder = Path('/content/drive/My Drive/Colab Notebooks/01_Repository/OpenQuake/oq ffe')\n",
        "files = folder / 'oqInput_EventBasedPSHA'"
      ],
      "execution_count": 6,
      "outputs": []
    },
    {
      "cell_type": "code",
      "metadata": {
        "id": "ZtNOR9Oae93i",
        "colab_type": "code",
        "colab": {
          "base_uri": "https://localhost:8080/",
          "height": 35
        },
        "outputId": "3874b421-fb00-44bf-f442-e71ee7473851"
      },
      "source": [
        "os.chdir(folder)\n",
        "!pwd"
      ],
      "execution_count": 7,
      "outputs": [
        {
          "output_type": "stream",
          "text": [
            "/content/drive/My Drive/Colab Notebooks/01_Repository/OpenQuake/oq ffe\n"
          ],
          "name": "stdout"
        }
      ]
    },
    {
      "cell_type": "code",
      "metadata": {
        "id": "9ZonLCx6CYgO",
        "colab_type": "code",
        "colab": {
          "base_uri": "https://localhost:8080/",
          "height": 72
        },
        "outputId": "e03b9634-3877-4243-c79a-0249359fa460"
      },
      "source": [
        "os.listdir(files)"
      ],
      "execution_count": 11,
      "outputs": [
        {
          "output_type": "execute_result",
          "data": {
            "text/plain": [
              "['rSHM_source-model_bk-NZBCK615_fl-F010519_mMin5pt0.xml',\n",
              " 'gmpe_logic_tree-CVH_BNZSEE_0317-GM-SI_BCHydro-only.xml',\n",
              " 'jobFFE.ini']"
            ]
          },
          "metadata": {
            "tags": []
          },
          "execution_count": 11
        }
      ]
    },
    {
      "cell_type": "markdown",
      "metadata": {
        "id": "wQnRoeoAmdK0",
        "colab_type": "text"
      },
      "source": [
        "#Check ini file"
      ]
    },
    {
      "cell_type": "code",
      "metadata": {
        "id": "m6fEQkxFiJcc",
        "colab_type": "code",
        "colab": {}
      },
      "source": [
        "settings = configparser.ConfigParser()\n",
        "settings._interpolation = configparser.ExtendedInterpolation()\n",
        "settings.read('/content/drive/My Drive/Colab Notebooks/01_Repository/OpenQuake/oq ffe/oqInput_EventBasedPSHA/jobFFE.ini')\n",
        "# ['settings.ini']\n",
        "# settings.sections()\n",
        "# ['SectionOne', 'SectionTwo', 'SectionThree']\n",
        "# settings.get('calculation', 'maximum_distance')"
      ],
      "execution_count": null,
      "outputs": []
    },
    {
      "cell_type": "markdown",
      "metadata": {
        "id": "dB06Zt66l4TS",
        "colab_type": "text"
      },
      "source": [
        "#Update the ini files "
      ]
    },
    {
      "cell_type": "code",
      "metadata": {
        "id": "jpXqMwDxi_EI",
        "colab_type": "code",
        "colab": {}
      },
      "source": [
        "# settings.set('calculation', 'maximum_distance', \"50\")\n",
        "# settings.get('calculation', 'maximum_distance')"
      ],
      "execution_count": null,
      "outputs": []
    },
    {
      "cell_type": "code",
      "metadata": {
        "id": "COaMypuulDCA",
        "colab_type": "code",
        "colab": {}
      },
      "source": [
        "# save ini files with changes\n",
        "with open(files / 'job_Test.ini', \"w\") as f:\n",
        "    settings.write(f)"
      ],
      "execution_count": null,
      "outputs": []
    },
    {
      "cell_type": "markdown",
      "metadata": {
        "id": "YJE4xkrCmEiG",
        "colab_type": "text"
      },
      "source": [
        "#Run OpenQuake"
      ]
    },
    {
      "cell_type": "markdown",
      "metadata": {
        "id": "hASoJjdM19aK",
        "colab_type": "text"
      },
      "source": [
        "***Shell commands seems to be working using the ! symbol - might be possible to run OpenQuake directly from GoogleColab***\n",
        "\n",
        "\n",
        "---\n",
        "\n"
      ]
    },
    {
      "cell_type": "code",
      "metadata": {
        "id": "Uajuc5Y4q0km",
        "colab_type": "code",
        "colab": {}
      },
      "source": [
        "# !oq engine --help"
      ],
      "execution_count": null,
      "outputs": []
    },
    {
      "cell_type": "code",
      "metadata": {
        "id": "6eBV3GslrPPu",
        "colab_type": "code",
        "colab": {}
      },
      "source": [
        "!oq engine --run job.ini --exports csv"
      ],
      "execution_count": null,
      "outputs": []
    }
  ]
}