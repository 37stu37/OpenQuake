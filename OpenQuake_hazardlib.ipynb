{
  "nbformat": 4,
  "nbformat_minor": 0,
  "metadata": {
    "colab": {
      "name": "OpenQuake_hazardlib.ipynb",
      "provenance": [],
      "mount_file_id": "https://github.com/37stu37/OpenQuake/blob/master/OpenQuake_hazardlib.ipynb",
      "authorship_tag": "ABX9TyOouSq2Bf5s2wPQImzUTTTf",
      "include_colab_link": true
    },
    "kernelspec": {
      "name": "python3",
      "display_name": "Python 3"
    }
  },
  "cells": [
    {
      "cell_type": "markdown",
      "metadata": {
        "id": "view-in-github",
        "colab_type": "text"
      },
      "source": [
        "<a href=\"https://colab.research.google.com/github/37stu37/OpenQuake/blob/master/OpenQuake_hazardlib.ipynb\" target=\"_parent\"><img src=\"https://colab.research.google.com/assets/colab-badge.svg\" alt=\"Open In Colab\"/></a>"
      ]
    },
    {
      "cell_type": "code",
      "metadata": {
        "id": "_2BfupS1P0ID",
        "colab_type": "code",
        "colab": {}
      },
      "source": [
        "# %%capture\n",
        "# !git clone https://github.com/gem/oq-engine.git"
      ],
      "execution_count": 0,
      "outputs": []
    },
    {
      "cell_type": "code",
      "metadata": {
        "id": "4vYwwf5aCFKd",
        "colab_type": "code",
        "colab": {
          "base_uri": "https://localhost:8080/",
          "height": 54
        },
        "outputId": "b079e0cb-2ee2-448a-b94c-97dff49e278f"
      },
      "source": [
        "from google.colab import drive\n",
        "drive.mount('/content/drive')"
      ],
      "execution_count": 2,
      "outputs": [
        {
          "output_type": "stream",
          "text": [
            "Drive already mounted at /content/drive; to attempt to forcibly remount, call drive.mount(\"/content/drive\", force_remount=True).\n"
          ],
          "name": "stdout"
        }
      ]
    },
    {
      "cell_type": "code",
      "metadata": {
        "id": "e8ON2byeXAxq",
        "colab_type": "code",
        "colab": {}
      },
      "source": [
        "%%capture\n",
        "!pip install openquake.engine"
      ],
      "execution_count": 0,
      "outputs": []
    },
    {
      "cell_type": "code",
      "metadata": {
        "id": "T9Yk3bRjgmTs",
        "colab_type": "code",
        "colab": {}
      },
      "source": [
        "import openquake\n",
        "import os\n",
        "from pathlib import Path"
      ],
      "execution_count": 0,
      "outputs": []
    },
    {
      "cell_type": "code",
      "metadata": {
        "id": "4WevjMAHCdAU",
        "colab_type": "code",
        "colab": {}
      },
      "source": [
        "folder = Path('/content/drive/My Drive/04_Cloud/01_Work/Outreach_Networking&Learning/02_Course/OpenQuake/runs')"
      ],
      "execution_count": 0,
      "outputs": []
    },
    {
      "cell_type": "code",
      "metadata": {
        "id": "9ZonLCx6CYgO",
        "colab_type": "code",
        "colab": {
          "base_uri": "https://localhost:8080/",
          "height": 51
        },
        "outputId": "4c95352c-3b5b-49cb-a904-8bb4769f4f20"
      },
      "source": [
        "os.chdir(folder)\n",
        "!ls"
      ],
      "execution_count": 6,
      "outputs": [
        {
          "output_type": "stream",
          "text": [
            "gmpe_logic_tree.xml  README.txt\t\t\t  source_model.xml\n",
            "job.ini\t\t     source_model_logic_tree.xml\n"
          ],
          "name": "stdout"
        }
      ]
    },
    {
      "cell_type": "code",
      "metadata": {
        "id": "Uajuc5Y4q0km",
        "colab_type": "code",
        "colab": {
          "base_uri": "https://localhost:8080/",
          "height": 1000
        },
        "outputId": "865c5b48-9652-44e6-9d15-28676eb77a8d"
      },
      "source": [
        "!oq engine --help"
      ],
      "execution_count": 7,
      "outputs": [
        {
          "output_type": "stream",
          "text": [
            "usage: oq engine [-h] [--log-file LOG_FILE] [--no-distribute] [-y]\n",
            "                 [-c CONFIG_FILE] [--make-html-report YYYY-MM-DD|today] [-u]\n",
            "                 [-d] [-w] [--run JOB_INI [JOB_INI ...]]\n",
            "                 [--list-hazard-calculations] [--list-risk-calculations]\n",
            "                 [--delete-calculation CALCULATION_ID]\n",
            "                 [--delete-uncompleted-calculations]\n",
            "                 [--hazard-calculation-id HAZARD_CALCULATION_ID]\n",
            "                 [--list-outputs CALCULATION_ID] [--show-log CALCULATION_ID]\n",
            "                 [--export-output OUTPUT_ID TARGET_DIR]\n",
            "                 [--export-outputs CALCULATION_ID TARGET_DIR] [-e]\n",
            "                 [-l {debug, info, warn, error, critical}] [-r]\n",
            "                 [--param PARAM]\n",
            "\n",
            "Run a calculation using the traditional command line API\n",
            "\n",
            "optional arguments:\n",
            "  -h, --help            show this help message and exit\n",
            "  --log-file LOG_FILE, -L LOG_FILE\n",
            "                        Location where to store log messages; if not\n",
            "                        specified, log messages will be printed to the console\n",
            "                        (to stderr)\n",
            "  --no-distribute, --nd\n",
            "                        Disable calculation task distribution and run the\n",
            "                        computation in a single process. This is intended for\n",
            "                        use in debugging and profiling.\n",
            "  -y, --yes             Automatically answer \"yes\" when asked to confirm an\n",
            "                        action\n",
            "  -c CONFIG_FILE, --config-file CONFIG_FILE\n",
            "                        Custom openquake.cfg file, to override default\n",
            "                        configurations\n",
            "  --make-html-report YYYY-MM-DD|today, --r YYYY-MM-DD|today\n",
            "                        Build an HTML report of the computation at the given\n",
            "                        date\n",
            "  -u, --upgrade-db      Upgrade the openquake database\n",
            "  -d, --db-version      Show the current version of the openquake database\n",
            "  -w, --what-if-I-upgrade\n",
            "                        Show what will happen to the openquake database if you\n",
            "                        upgrade\n",
            "  --run JOB_INI [JOB_INI ...]\n",
            "                        Run a job with the specified config file\n",
            "  --list-hazard-calculations, --lhc\n",
            "                        List hazard calculation information\n",
            "  --list-risk-calculations, --lrc\n",
            "                        List risk calculation information\n",
            "  --delete-calculation CALCULATION_ID, --dc CALCULATION_ID\n",
            "                        Delete a calculation and all associated outputs\n",
            "  --delete-uncompleted-calculations, --duc\n",
            "                        Delete all the uncompleted calculations\n",
            "  --hazard-calculation-id HAZARD_CALCULATION_ID, --hc HAZARD_CALCULATION_ID\n",
            "                        Use the given job as input for the next job\n",
            "  --list-outputs CALCULATION_ID, --lo CALCULATION_ID\n",
            "                        List outputs for the specified calculation\n",
            "  --show-log CALCULATION_ID, --sl CALCULATION_ID\n",
            "                        Show the log of the specified calculation\n",
            "  --export-output OUTPUT_ID TARGET_DIR, --eo OUTPUT_ID TARGET_DIR\n",
            "                        Export the desired output to the specified directory\n",
            "  --export-outputs CALCULATION_ID TARGET_DIR, --eos CALCULATION_ID TARGET_DIR\n",
            "                        Export all of the calculation outputs to the specified\n",
            "                        directory\n",
            "  -e , --exports        Comma-separated string specifing the export formats,\n",
            "                        in order of priority\n",
            "  -l {debug, info, warn, error, critical}, --log-level {debug, info, warn, error, critical}\n",
            "                        Defaults to \"info\"\n",
            "  -r, --reuse-hazard    Reuse the event based hazard if available\n",
            "  --param PARAM, -p PARAM\n",
            "                        Override parameters specified with the syntax\n",
            "                        NAME1=VALUE1,NAME2=VALUE2,...\n"
          ],
          "name": "stdout"
        }
      ]
    },
    {
      "cell_type": "markdown",
      "metadata": {
        "id": "hASoJjdM19aK",
        "colab_type": "text"
      },
      "source": [
        "***Shell commands seems to be working using the ! symbol - might be possible to run OpenQuake directly from GoogleColab***\n",
        "\n",
        "\n",
        "---\n",
        "\n"
      ]
    },
    {
      "cell_type": "code",
      "metadata": {
        "id": "6eBV3GslrPPu",
        "colab_type": "code",
        "colab": {}
      },
      "source": [
        "!oq engine --run job.ini --exports xml,csv"
      ],
      "execution_count": 0,
      "outputs": []
    }
  ]
}