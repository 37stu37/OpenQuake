{
  "nbformat": 4,
  "nbformat_minor": 0,
  "metadata": {
    "colab": {
      "name": "OpenQuake_hazardlib.ipynb",
      "provenance": [],
      "authorship_tag": "ABX9TyN6j6hy1a85OzknooYb0plU"
    },
    "kernelspec": {
      "name": "python3",
      "display_name": "Python 3"
    }
  },
  "cells": [
    {
      "cell_type": "code",
      "metadata": {
        "id": "_2BfupS1P0ID",
        "colab_type": "code",
        "outputId": "8ed935ed-fb3b-4d6f-952e-4d4269022f8c",
        "colab": {
          "base_uri": "https://localhost:8080/",
          "height": 34
        }
      },
      "source": [
        "# %%capture\n",
        "# !git clone https://github.com/gem/oq-engine.git"
      ],
      "execution_count": 0,
      "outputs": [
        {
          "output_type": "stream",
          "text": [
            "fatal: destination path 'oq-engine' already exists and is not an empty directory.\n"
          ],
          "name": "stdout"
        }
      ]
    },
    {
      "cell_type": "code",
      "metadata": {
        "id": "e8ON2byeXAxq",
        "colab_type": "code",
        "colab": {}
      },
      "source": [
        "%%capture\n",
        "!pip install openquake.engine"
      ],
      "execution_count": 0,
      "outputs": []
    },
    {
      "cell_type": "code",
      "metadata": {
        "id": "T9Yk3bRjgmTs",
        "colab_type": "code",
        "colab": {}
      },
      "source": [
        "import openquake"
      ],
      "execution_count": 0,
      "outputs": []
    },
    {
      "cell_type": "code",
      "metadata": {
        "id": "6R9wYB60ge9B",
        "colab_type": "code",
        "colab": {
          "base_uri": "https://localhost:8080/",
          "height": 374
        },
        "outputId": "3c29befc-3fd0-4d63-8d65-de497fc9a613"
      },
      "source": [
        "help(openquake)"
      ],
      "execution_count": 35,
      "outputs": [
        {
          "output_type": "stream",
          "text": [
            "Help on package openquake:\n",
            "\n",
            "NAME\n",
            "    openquake\n",
            "\n",
            "PACKAGE CONTENTS\n",
            "    baselib (package)\n",
            "    calculators (package)\n",
            "    commands (package)\n",
            "    commonlib (package)\n",
            "    engine (package)\n",
            "    hazardlib (package)\n",
            "    hmtk (package)\n",
            "    qa_tests_data (package)\n",
            "    risklib (package)\n",
            "    server (package)\n",
            "\n",
            "FILE\n",
            "    (built-in)\n",
            "\n",
            "\n"
          ],
          "name": "stdout"
        }
      ]
    },
    {
      "cell_type": "code",
      "metadata": {
        "id": "39s96dyfgxgu",
        "colab_type": "code",
        "colab": {
          "base_uri": "https://localhost:8080/",
          "height": 663
        },
        "outputId": "aa67f844-d99d-463a-dc02-751fb6e7879a"
      },
      "source": [
        "help(openquake.hazardlib)"
      ],
      "execution_count": 36,
      "outputs": [
        {
          "output_type": "stream",
          "text": [
            "Help on package openquake.hazardlib in openquake:\n",
            "\n",
            "NAME\n",
            "    openquake.hazardlib - hazardlib stands for Hazard Library.\n",
            "\n",
            "PACKAGE CONTENTS\n",
            "    calc (package)\n",
            "    const\n",
            "    contexts\n",
            "    correlation\n",
            "    geo (package)\n",
            "    gsim (package)\n",
            "    imt\n",
            "    lt\n",
            "    mfd (package)\n",
            "    near_fault\n",
            "    nrml\n",
            "    pmf\n",
            "    probability_map\n",
            "    scalerel (package)\n",
            "    shakemap\n",
            "    shakemapconverter\n",
            "    site\n",
            "    site_amplification\n",
            "    source (package)\n",
            "    sourceconverter\n",
            "    sourcewriter\n",
            "    stats\n",
            "    tom\n",
            "    valid\n",
            "\n",
            "VERSION\n",
            "    3.9.0\n",
            "\n",
            "FILE\n",
            "    /usr/local/lib/python3.6/dist-packages/openquake/hazardlib/__init__.py\n",
            "\n",
            "\n"
          ],
          "name": "stdout"
        }
      ]
    },
    {
      "cell_type": "code",
      "metadata": {
        "id": "jhZfSO-EmUTN",
        "colab_type": "code",
        "colab": {
          "base_uri": "https://localhost:8080/",
          "height": 935
        },
        "outputId": "ac49f66c-016f-4782-ba3b-98f18118a45d"
      },
      "source": [
        "help(openquake.engine)"
      ],
      "execution_count": 37,
      "outputs": [
        {
          "output_type": "stream",
          "text": [
            "Help on package openquake.engine in openquake:\n",
            "\n",
            "NAME\n",
            "    openquake.engine\n",
            "\n",
            "DESCRIPTION\n",
            "    OpenQuake is an open-source platform for the calculation of hazard and risk\n",
            "    impact. It is a project of the Global Earthquake Model, and may be extended\n",
            "    by other organizations to address additional classes of peril.\n",
            "    \n",
            "    For more information, please see the website at http://www.globalquakemodel.org\n",
            "    This software may be downloaded at http://github.com/gem/openquake\n",
            "    \n",
            "    The continuous integration server is at\n",
            "        https://ci.openquake.org\n",
            "    \n",
            "    Up-to-date sphinx documentation is at\n",
            "        http://docs.openquake.org\n",
            "    \n",
            "    This software is licensed under the AGPL license, for more details\n",
            "    please see the LICENSE file.\n",
            "    \n",
            "    Copyright (C) 2010-2020 GEM Foundation\n",
            "    \n",
            "    OpenQuake is free software: you can redistribute it and/or modify it\n",
            "    under the terms of the GNU Affero General Public License as published\n",
            "    by the Free Software Foundation, either version 3 of the License, or\n",
            "    (at your option) any later version.\n",
            "    \n",
            "    OpenQuake is distributed in the hope that it will be useful,\n",
            "    but WITHOUT ANY WARRANTY; without even the implied warranty of\n",
            "    MERCHANTABILITY or FITNESS FOR A PARTICULAR PURPOSE.  See the\n",
            "    GNU General Public License for more details.\n",
            "    \n",
            "    You should have received a copy of the GNU Affero General Public License\n",
            "    along with OpenQuake.  If not, see <http://www.gnu.org/licenses/>.\n",
            "\n",
            "PACKAGE CONTENTS\n",
            "    celeryconfig\n",
            "    engine\n",
            "    export (package)\n",
            "    tools (package)\n",
            "    utils (package)\n",
            "\n",
            "DATA\n",
            "    OPENQUAKE_ROOT = '/usr/local/lib/python3.6/dist-packages/openquake'\n",
            "\n",
            "VERSION\n",
            "    3.9.0\n",
            "\n",
            "FILE\n",
            "    /usr/local/lib/python3.6/dist-packages/openquake/engine/__init__.py\n",
            "\n",
            "\n"
          ],
          "name": "stdout"
        }
      ]
    },
    {
      "cell_type": "code",
      "metadata": {
        "id": "Uajuc5Y4q0km",
        "colab_type": "code",
        "colab": {}
      },
      "source": [
        ""
      ],
      "execution_count": 0,
      "outputs": []
    },
    {
      "cell_type": "code",
      "metadata": {
        "id": "rpLiBeKtURjH",
        "colab_type": "code",
        "colab": {}
      },
      "source": [
        "%matplotlib inline\n",
        "\n",
        "import matplotlib.pyplot as plt\n",
        "import numpy as np"
      ],
      "execution_count": 0,
      "outputs": []
    },
    {
      "cell_type": "code",
      "metadata": {
        "id": "oCcBxXCkYFpp",
        "colab_type": "code",
        "colab": {}
      },
      "source": [
        "# time span for stochastic event set generation\n",
        "time_span = 1000.\n",
        "\n",
        "# define area source\n",
        "src = AreaSource(\n",
        "    source_id='1',\n",
        "    name='area',\n",
        "    tectonic_region_type='Active Shallow Crust',\n",
        "    mfd=TruncatedGRMFD(min_mag=5., max_mag=6.5, bin_width=0.2, a_val=4.45, b_val=0.98),\n",
        "    rupture_mesh_spacing=2.,\n",
        "    magnitude_scaling_relationship=WC1994(),\n",
        "    rupture_aspect_ratio=1.,\n",
        "    temporal_occurrence_model=PoissonTOM(time_span),\n",
        "    upper_seismogenic_depth=2.,\n",
        "    lower_seismogenic_depth=12.,\n",
        "    nodal_plane_distribution=PMF([(0.125, NodalPlane(strike=0, dip=90, rake=0)),\n",
        "                                  (0.125, NodalPlane(strike=45, dip=90, rake=0)),\n",
        "                                  (0.125, NodalPlane(strike=90, dip=90, rake=0)),\n",
        "                                  (0.125, NodalPlane(strike=135, dip=90, rake=0)),\n",
        "                                  (0.0625, NodalPlane(strike=0, dip=50, rake=90)),\n",
        "                                  (0.0625, NodalPlane(strike=45, dip=50, rake=90)),\n",
        "                                  (0.0625, NodalPlane(strike=90, dip=50, rake=90)),\n",
        "                                  (0.0625, NodalPlane(strike=135, dip=50, rake=90)),\n",
        "                                  (0.0625, NodalPlane(strike=180, dip=50, rake=90)),\n",
        "                                  (0.0625, NodalPlane(strike=225, dip=50, rake=90)),\n",
        "                                  (0.0625, NodalPlane(strike=270, dip=50, rake=90)),\n",
        "                                  (0.0625, NodalPlane(strike=315, dip=50, rake=90))]),\n",
        "    hypocenter_distribution=PMF([(1, 7.)]),\n",
        "    polygon=Polygon([Point(133.5, -22.5), Point(133.5, -23.0), Point(130.75, -23.75), Point(130.75, -24.5),\n",
        "                     Point(133.5, -26.0), Point(133.5, -27.0), Point(130.75, -27.0), Point(128.977, -25.065),\n",
        "                     Point(128.425, -23.436), Point(126.082, -23.233), Point(125.669, -22.351), Point(125.4, -20.5),\n",
        "                     Point(125.75, -20.25), Point(126.7, -21.25), Point(128.5, -21.25), Point(129.25, -20.6),\n",
        "                     Point(130.0, -20.6), Point(130.9, -22.25), Point(133.0, -22.0), Point(133.5, -22.5)]),\n",
        "    area_discretization=20.\n",
        ")"
      ],
      "execution_count": 0,
      "outputs": []
    },
    {
      "cell_type": "code",
      "metadata": {
        "id": "YRRLkHnoYNkS",
        "colab_type": "code",
        "colab": {}
      },
      "source": [
        "# generate two different stochastic event sets from the area source\n",
        "numpy.random.seed(123)\n",
        "\n",
        "# generate event and store them in lists\n",
        "ses1 = list(stochastic_event_set([src]))\n",
        "ses2 = list(stochastic_event_set([src]))"
      ],
      "execution_count": 0,
      "outputs": []
    }
  ]
}