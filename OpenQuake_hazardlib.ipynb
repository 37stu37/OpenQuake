{
  "nbformat": 4,
  "nbformat_minor": 0,
  "metadata": {
    "colab": {
      "name": "OpenQuake_hazardlib.ipynb",
      "provenance": [],
      "mount_file_id": "https://github.com/37stu37/OpenQuake/blob/master/OpenQuake_hazardlib.ipynb",
      "authorship_tag": "ABX9TyO5oGbEXWVvLOcUFHRuL5Gu",
      "include_colab_link": true
    },
    "kernelspec": {
      "name": "python3",
      "display_name": "Python 3"
    }
  },
  "cells": [
    {
      "cell_type": "markdown",
      "metadata": {
        "id": "view-in-github",
        "colab_type": "text"
      },
      "source": [
        "<a href=\"https://colab.research.google.com/github/37stu37/OpenQuake/blob/master/OpenQuake_hazardlib.ipynb\" target=\"_parent\"><img src=\"https://colab.research.google.com/assets/colab-badge.svg\" alt=\"Open In Colab\"/></a>"
      ]
    },
    {
      "cell_type": "code",
      "metadata": {
        "id": "_2BfupS1P0ID",
        "colab_type": "code",
        "colab": {}
      },
      "source": [
        "# %%capture\n",
        "# !git clone https://github.com/gem/oq-engine.git"
      ],
      "execution_count": 0,
      "outputs": []
    },
    {
      "cell_type": "code",
      "metadata": {
        "id": "4vYwwf5aCFKd",
        "colab_type": "code",
        "outputId": "a19684d1-bf43-45ac-8c70-b2f9b4c36605",
        "colab": {
          "base_uri": "https://localhost:8080/",
          "height": 34
        }
      },
      "source": [
        "from google.colab import drive\n",
        "drive.mount('/content/drive')"
      ],
      "execution_count": 13,
      "outputs": [
        {
          "output_type": "stream",
          "text": [
            "Drive already mounted at /content/drive; to attempt to forcibly remount, call drive.mount(\"/content/drive\", force_remount=True).\n"
          ],
          "name": "stdout"
        }
      ]
    },
    {
      "cell_type": "code",
      "metadata": {
        "id": "e8ON2byeXAxq",
        "colab_type": "code",
        "colab": {}
      },
      "source": [
        "%%capture\n",
        "!pip install openquake.engine"
      ],
      "execution_count": 0,
      "outputs": []
    },
    {
      "cell_type": "code",
      "metadata": {
        "id": "T9Yk3bRjgmTs",
        "colab_type": "code",
        "colab": {}
      },
      "source": [
        "import openquake\n",
        "import os\n",
        "from pathlib import Path"
      ],
      "execution_count": 0,
      "outputs": []
    },
    {
      "cell_type": "code",
      "metadata": {
        "id": "4WevjMAHCdAU",
        "colab_type": "code",
        "colab": {}
      },
      "source": [
        "folder = Path('/content/drive/My Drive/04_Cloud/01_Work/Outreach_Networking&Learning/02_Course/OpenQuake/runs/demos/hazard')\n",
        "demo = folder / 'AreaSourceClassicalPSHA'"
      ],
      "execution_count": 0,
      "outputs": []
    },
    {
      "cell_type": "code",
      "metadata": {
        "id": "9ZonLCx6CYgO",
        "colab_type": "code",
        "outputId": "bda728aa-1fff-4674-a715-a782b7b22133",
        "colab": {
          "base_uri": "https://localhost:8080/",
          "height": 51
        }
      },
      "source": [
        "os.chdir(demo)\n",
        "!ls"
      ],
      "execution_count": 17,
      "outputs": [
        {
          "output_type": "stream",
          "text": [
            "gmpe_logic_tree.xml  output\t source_model_logic_tree.xml\n",
            "job.ini\t\t     README.txt  source_model.xml\n"
          ],
          "name": "stdout"
        }
      ]
    },
    {
      "cell_type": "code",
      "metadata": {
        "id": "Uajuc5Y4q0km",
        "colab_type": "code",
        "colab": {}
      },
      "source": [
        "# !oq engine --help"
      ],
      "execution_count": 0,
      "outputs": []
    },
    {
      "cell_type": "markdown",
      "metadata": {
        "id": "hASoJjdM19aK",
        "colab_type": "text"
      },
      "source": [
        "***Shell commands seems to be working using the ! symbol - might be possible to run OpenQuake directly from GoogleColab***\n",
        "\n",
        "\n",
        "---\n",
        "\n"
      ]
    },
    {
      "cell_type": "code",
      "metadata": {
        "id": "6eBV3GslrPPu",
        "colab_type": "code",
        "outputId": "62898f9c-6d2a-4892-80b0-d50ae56bcb78",
        "colab": {
          "base_uri": "https://localhost:8080/",
          "height": 870
        }
      },
      "source": [
        "!oq engine --run job.ini --exports csv"
      ],
      "execution_count": 19,
      "outputs": [
        {
          "output_type": "stream",
          "text": [
            "[2020-05-26 07:11:20 #3 INFO] root running /content/drive/My Drive/04_Cloud/01_Work/Outreach_Networking&Learning/02_Course/OpenQuake/runs/demos/hazard/AreaSourceClassicalPSHA/job.ini [--hc=None]\n",
            "[2020-05-26 07:11:20 #3 INFO] Using engine version 3.9.0\n",
            "[2020-05-26 07:11:21 #3 WARNING] Using 2 cores on 6037fe886cd3\n",
            "[2020-05-26 07:11:21 #3 INFO] Checksum of the input files: 107649108\n",
            "[2020-05-26 07:11:21 #3 INFO] Reading the risk model if present\n",
            "[2020-05-26 07:11:21 #3 INFO] Inferring the hazard grid from the exposure\n",
            "[2020-05-26 07:11:21 #3 INFO] Read N=624 hazard sites and L=360 hazard levels\n",
            "[2020-05-26 07:11:21 #3 INFO] Validated source_model_logic_tree.xml in 0.00 seconds\n",
            "[2020-05-26 07:11:21 #3 INFO] Potential number of logic tree paths = 1\n",
            "[2020-05-26 07:11:21 #3 INFO] 1 effective smlt realization(s)\n",
            "[2020-05-26 07:11:21 #3 INFO] Reading the source model(s) in parallel\n",
            "[2020-05-26 07:11:21 #3 INFO] read_source_model 0 B sent, 1 submitted, 0 queued\n",
            "[2020-05-26 07:11:21 #3 INFO] read_source_model 100% [1 submitted, 0 queued]\n",
            "[2020-05-26 07:11:21 #3 INFO] Received {'/content/drive/My Drive/04_Cloud/01_Work/Outreach_Networking&Learning/02_Course/OpenQuake/runs/demos/hazard/AreaSourceClassicalPSHA/source_model.xml': '1.81 KB'} in 0 seconds\n",
            "[2020-05-26 07:11:21 #3 INFO] There are 1 sources with 1 unique IDs\n",
            "[2020-05-26 07:11:21 #3 INFO] Checking the sources bounding box\n",
            "[2020-05-26 07:11:21 #3 INFO] gzipping the input files\n",
            "[2020-05-26 07:11:21 #3 INFO] Weighting the sources\n",
            "[2020-05-26 07:11:21 #3 INFO] tot_weight=416, max_weight=3_000\n",
            "[2020-05-26 07:11:21 #3 INFO] TRT = Active Shallow Crust\n",
            "[2020-05-26 07:11:21 #3 INFO] max_dist=200.0, gsims=1, weight=416, blocks=1\n",
            "[2020-05-26 07:11:21 #3 INFO] Estimated upper memory limit per core:\n",
            "624 sites x 360 levels x 1 gsims x 1 src_multiplicity * 8 bytes = 1.71 MB\n",
            "[2020-05-26 07:11:21 #3 INFO] classical 0 B sent, 1 submitted, 0 queued\n",
            "[2020-05-26 07:11:28 #3 INFO] classical  50% [2 submitted, 0 queued]\n",
            "[2020-05-26 07:11:33 #3 INFO] classical 100% [2 submitted, 0 queued]\n",
            "[2020-05-26 07:11:33 #3 INFO] Received {'pmap': '3.5 MB', 'calc_times': '535 B', 'extra': '219 B', 'rup_data': '28 B'} in 12 seconds\n",
            "[2020-05-26 07:11:33 #3 INFO] There are 1 realization(s)\n",
            "[2020-05-26 07:11:33 #3 INFO] Storing by_task information\n",
            "[2020-05-26 07:11:33 #3 INFO] Effective number of ruptures: 832/416\n",
            "[2020-05-26 07:11:33 #3 INFO] Effective number of sites per rupture: 311\n",
            "[2020-05-26 07:11:33 #3 INFO] Building hazard statistics\n",
            "[2020-05-26 07:11:33 #3 INFO] build_hazard 2.43 KB sent, 2 submitted, 2 queued\n",
            "[2020-05-26 07:11:34 #3 INFO] build_hazard  25% [3 submitted, 1 queued]\n",
            "[2020-05-26 07:11:34 #3 INFO] build_hazard  50% [4 submitted, 0 queued]\n",
            "[2020-05-26 07:11:34 #3 INFO] build_hazard  75% [4 submitted, 0 queued]\n",
            "[2020-05-26 07:11:34 #3 INFO] build_hazard 100% [4 submitted, 0 queued]\n",
            "[2020-05-26 07:11:34 #3 INFO] Received {'hcurves-stats': '1.75 MB', 'hmaps-stats': '75.46 KB'} in 0 seconds\n",
            "[2020-05-26 07:11:35 #3 INFO] exported hcurves: ['/content/drive/My Drive/04_Cloud/01_Work/Outreach_Networking&Learning/02_Course/OpenQuake/runs/demos/hazard/AreaSourceClassicalPSHA/output/hazard_curve-mean-PGA_3.csv', '/content/drive/My Drive/04_Cloud/01_Work/Outreach_Networking&Learning/02_Course/OpenQuake/runs/demos/hazard/AreaSourceClassicalPSHA/output/hazard_curve-mean-SA(0.025)_3.csv', '/content/drive/My Drive/04_Cloud/01_Work/Outreach_Networking&Learning/02_Course/OpenQuake/runs/demos/hazard/AreaSourceClassicalPSHA/output/hazard_curve-mean-SA(0.05)_3.csv', '/content/drive/My Drive/04_Cloud/01_Work/Outreach_Networking&Learning/02_Course/OpenQuake/runs/demos/hazard/AreaSourceClassicalPSHA/output/hazard_curve-mean-SA(0.1)_3.csv', '/content/drive/My Drive/04_Cloud/01_Work/Outreach_Networking&Learning/02_Course/OpenQuake/runs/demos/hazard/AreaSourceClassicalPSHA/output/hazard_curve-mean-SA(0.2)_3.csv', '/content/drive/My Drive/04_Cloud/01_Work/Outreach_Networking&Learning/02_Course/OpenQuake/runs/demos/hazard/AreaSourceClassicalPSHA/output/hazard_curve-mean-SA(0.5)_3.csv', '/content/drive/My Drive/04_Cloud/01_Work/Outreach_Networking&Learning/02_Course/OpenQuake/runs/demos/hazard/AreaSourceClassicalPSHA/output/hazard_curve-mean-SA(1.0)_3.csv', '/content/drive/My Drive/04_Cloud/01_Work/Outreach_Networking&Learning/02_Course/OpenQuake/runs/demos/hazard/AreaSourceClassicalPSHA/output/hazard_curve-mean-SA(2.0)_3.csv']\n",
            "[2020-05-26 07:11:35 #3 INFO] exported hmaps: ['/content/drive/My Drive/04_Cloud/01_Work/Outreach_Networking&Learning/02_Course/OpenQuake/runs/demos/hazard/AreaSourceClassicalPSHA/output/hazard_map-mean_3.csv']\n",
            "[2020-05-26 07:11:36 #3 INFO] exported uhs: ['/content/drive/My Drive/04_Cloud/01_Work/Outreach_Networking&Learning/02_Course/OpenQuake/runs/demos/hazard/AreaSourceClassicalPSHA/output/hazard_uhs-mean_3.csv']\n",
            "[2020-05-26 07:11:36 #3 INFO] Exposing the outputs to the database\n",
            "[2020-05-26 07:11:36 #3 INFO] Calculation 3 finished correctly in 14 seconds\n",
            "  id | name\n",
            "  11 | Full Report\n",
            "  12 | Hazard Curves\n",
            "  13 | Hazard Maps\n",
            "  14 | Input Files\n",
            "  15 | Uniform Hazard Spectra\n"
          ],
          "name": "stdout"
        }
      ]
    },
    {
      "cell_type": "code",
      "metadata": {
        "id": "n8j7T2hPXPMr",
        "colab_type": "code",
        "colab": {
          "base_uri": "https://localhost:8080/",
          "height": 102
        },
        "outputId": "ec6534e0-996b-4c08-da5b-6f4a863047b5"
      },
      "source": [
        "!ls '/content/drive/My Drive/04_Cloud/01_Work/Outreach_Networking&Learning/02_Course/OpenQuake/runs/demos/hazard/AreaSourceClassicalPSHA/output'"
      ],
      "execution_count": 22,
      "outputs": [
        {
          "output_type": "stream",
          "text": [
            " hazard_curve-mean-PGA_3.csv\t     'hazard_curve-mean-SA(0.5)_3.csv'\n",
            "'hazard_curve-mean-SA(0.025)_3.csv'  'hazard_curve-mean-SA(1.0)_3.csv'\n",
            "'hazard_curve-mean-SA(0.05)_3.csv'   'hazard_curve-mean-SA(2.0)_3.csv'\n",
            "'hazard_curve-mean-SA(0.1)_3.csv'     hazard_map-mean_3.csv\n",
            "'hazard_curve-mean-SA(0.2)_3.csv'     hazard_uhs-mean_3.csv\n"
          ],
          "name": "stdout"
        }
      ]
    },
    {
      "cell_type": "code",
      "metadata": {
        "id": "wV-R-weWXWch",
        "colab_type": "code",
        "colab": {}
      },
      "source": [
        ""
      ],
      "execution_count": 0,
      "outputs": []
    }
  ]
}