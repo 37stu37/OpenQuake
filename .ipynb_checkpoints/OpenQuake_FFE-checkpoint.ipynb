{
 "cells": [
  {
   "cell_type": "markdown",
   "metadata": {
    "colab_type": "text",
    "id": "RxZNLdfcmOUm"
   },
   "source": [
    "#Install Colab / OpenQuake"
   ]
  },
  {
   "cell_type": "code",
   "execution_count": 1,
   "metadata": {
    "colab": {},
    "colab_type": "code",
    "id": "e8ON2byeXAxq"
   },
   "outputs": [
    {
     "name": "stdout",
     "output_type": "stream",
     "text": [
      "Collecting openquake.engine\n",
      "  Downloading openquake.engine-3.9.0-py3-none-any.whl (31.4 MB)\n",
      "\u001b[K     |████████████████████████████████| 31.4 MB 1.3 MB/s eta 0:00:01    |█▊                              | 1.7 MB 551 kB/s eta 0:00:54     |██▋                             | 2.6 MB 359 kB/s eta 0:01:21     |███████████████████▋            | 19.2 MB 1.7 MB/s eta 0:00:08     |███████████████████████▋        | 23.3 MB 2.1 MB/s eta 0:00:04     |██████████████████████████████  | 29.5 MB 469 kB/s eta 0:00:05\n",
      "\u001b[?25hRequirement already satisfied: toml in /Users/alex/anaconda3/lib/python3.7/site-packages (from openquake.engine) (0.10.1)\n",
      "Requirement already satisfied: pandas<1.1,>=0.25 in /Users/alex/anaconda3/lib/python3.7/site-packages (from openquake.engine) (1.0.5)\n",
      "Collecting django<2.3,>=1.11\n",
      "  Downloading Django-2.2.15-py3-none-any.whl (7.5 MB)\n",
      "\u001b[K     |████████████████████████████████| 7.5 MB 3.0 MB/s eta 0:00:01\n",
      "\u001b[?25hCollecting docutils<0.15,>=0.11\n",
      "  Downloading docutils-0.14-py3-none-any.whl (543 kB)\n",
      "\u001b[K     |████████████████████████████████| 543 kB 102 kB/s eta 0:00:01\n",
      "\u001b[?25hCollecting requests<2.23,>=2.20\n",
      "  Downloading requests-2.22.0-py2.py3-none-any.whl (57 kB)\n",
      "\u001b[K     |████████████████████████████████| 57 kB 275 kB/s eta 0:00:01\n",
      "\u001b[?25hRequirement already satisfied: setuptools in /Users/alex/anaconda3/lib/python3.7/site-packages (from openquake.engine) (49.2.0.post20200714)\n",
      "Collecting matplotlib<3.2,>=1.5\n",
      "  Downloading matplotlib-3.1.3-cp37-cp37m-macosx_10_9_x86_64.whl (13.2 MB)\n",
      "\u001b[K     |████████████████████████████████| 13.2 MB 190 kB/s eta 0:00:01     |█████████████████████████████▎  | 12.1 MB 190 kB/s eta 0:00:06\n",
      "\u001b[?25hCollecting numpy<1.19,>=1.16\n",
      "  Downloading numpy-1.18.5-cp37-cp37m-macosx_10_9_x86_64.whl (15.1 MB)\n",
      "\u001b[K     |████████████████████████████████| 15.1 MB 506 kB/s eta 0:00:01\n",
      "\u001b[?25hRequirement already satisfied: scipy<1.5,>=1.3 in /Users/alex/.local/lib/python3.7/site-packages (from openquake.engine) (1.4.1)\n",
      "Collecting psutil<5.7,>=2.0\n",
      "  Downloading psutil-5.6.7.tar.gz (448 kB)\n",
      "\u001b[K     |████████████████████████████████| 448 kB 1.9 MB/s eta 0:00:01\n",
      "\u001b[?25hRequirement already satisfied: decorator>=4.3 in /Users/alex/anaconda3/lib/python3.7/site-packages (from openquake.engine) (4.4.2)\n",
      "Requirement already satisfied: PyYAML in /Users/alex/anaconda3/lib/python3.7/site-packages (from openquake.engine) (5.3.1)\n",
      "Collecting pyshp==1.2.3\n",
      "  Downloading pyshp-1.2.3.tar.gz (28 kB)\n",
      "Requirement already satisfied: shapely<1.8,>=1.3 in /Users/alex/anaconda3/lib/python3.7/site-packages (from openquake.engine) (1.7.0)\n",
      "Collecting h5py<2.10,>=2.9\n",
      "  Downloading h5py-2.9.0-cp37-cp37m-macosx_10_6_intel.macosx_10_9_intel.macosx_10_9_x86_64.macosx_10_10_intel.macosx_10_10_x86_64.whl (6.2 MB)\n",
      "\u001b[K     |████████████████████████████████| 6.2 MB 583 kB/s eta 0:00:01\n",
      "\u001b[?25hCollecting pyzmq<18.2\n",
      "  Downloading pyzmq-18.1.1-cp37-cp37m-macosx_10_9_x86_64.whl (811 kB)\n",
      "\u001b[K     |████████████████████████████████| 811 kB 262 kB/s eta 0:00:011\n",
      "\u001b[?25hRequirement already satisfied: pytz>=2017.2 in /Users/alex/anaconda3/lib/python3.7/site-packages (from pandas<1.1,>=0.25->openquake.engine) (2020.1)\n",
      "Requirement already satisfied: python-dateutil>=2.6.1 in /Users/alex/anaconda3/lib/python3.7/site-packages (from pandas<1.1,>=0.25->openquake.engine) (2.8.1)\n",
      "Collecting sqlparse>=0.2.2\n",
      "  Downloading sqlparse-0.3.1-py2.py3-none-any.whl (40 kB)\n",
      "\u001b[K     |████████████████████████████████| 40 kB 7.1 MB/s  eta 0:00:01\n",
      "\u001b[?25hCollecting idna<2.9,>=2.5\n",
      "  Downloading idna-2.8-py2.py3-none-any.whl (58 kB)\n",
      "\u001b[K     |████████████████████████████████| 58 kB 689 kB/s eta 0:00:01\n",
      "\u001b[?25hRequirement already satisfied: chardet<3.1.0,>=3.0.2 in /Users/alex/anaconda3/lib/python3.7/site-packages (from requests<2.23,>=2.20->openquake.engine) (3.0.4)\n",
      "Requirement already satisfied: certifi>=2017.4.17 in /Users/alex/anaconda3/lib/python3.7/site-packages (from requests<2.23,>=2.20->openquake.engine) (2020.6.20)\n",
      "Requirement already satisfied: urllib3!=1.25.0,!=1.25.1,<1.26,>=1.21.1 in /Users/alex/anaconda3/lib/python3.7/site-packages (from requests<2.23,>=2.20->openquake.engine) (1.25.9)\n",
      "Requirement already satisfied: cycler>=0.10 in /Users/alex/anaconda3/lib/python3.7/site-packages (from matplotlib<3.2,>=1.5->openquake.engine) (0.10.0)\n",
      "Requirement already satisfied: kiwisolver>=1.0.1 in /Users/alex/anaconda3/lib/python3.7/site-packages (from matplotlib<3.2,>=1.5->openquake.engine) (1.2.0)\n",
      "Requirement already satisfied: pyparsing!=2.0.4,!=2.1.2,!=2.1.6,>=2.0.1 in /Users/alex/anaconda3/lib/python3.7/site-packages (from matplotlib<3.2,>=1.5->openquake.engine) (2.4.7)\n",
      "Requirement already satisfied: six in /Users/alex/anaconda3/lib/python3.7/site-packages (from h5py<2.10,>=2.9->openquake.engine) (1.15.0)\n",
      "Building wheels for collected packages: psutil, pyshp\n",
      "  Building wheel for psutil (setup.py) ... \u001b[?25ldone\n",
      "\u001b[?25h  Created wheel for psutil: filename=psutil-5.6.7-cp37-cp37m-macosx_10_9_x86_64.whl size=225137 sha256=6717d3df3bf3c277c8b9314bece6fbdec9baa898898d7f121efb9174f655a688\n",
      "  Stored in directory: /Users/alex/Library/Caches/pip/wheels/65/eb/7c/a2480f4fb514230c9c7c56f31fb34227f0050552c39edab94c\n",
      "  Building wheel for pyshp (setup.py) ... \u001b[?25ldone\n",
      "\u001b[?25h  Created wheel for pyshp: filename=pyshp-1.2.3-py3-none-any.whl size=19989 sha256=1439074f75f39b2707abea9aa1d9009ae5a3c9bad6bd0b66d445a0040f0757fb\n",
      "  Stored in directory: /Users/alex/Library/Caches/pip/wheels/3a/94/7c/e9b32a7b5513c516248842fd34057b737635354738e0426081\n",
      "Successfully built psutil pyshp\n",
      "\u001b[31mERROR: tensorflow-probability 0.10.0 has requirement gast>=0.3.2, but you'll have gast 0.2.2 which is incompatible.\u001b[0m\n",
      "\u001b[31mERROR: ctgan 0.2.1 has requirement pandas<0.26,>=0.24, but you'll have pandas 1.0.5 which is incompatible.\u001b[0m\n",
      "\u001b[31mERROR: ctgan 0.2.1 has requirement scikit-learn<0.23,>=0.21, but you'll have scikit-learn 0.23.1 which is incompatible.\u001b[0m\n",
      "\u001b[31mERROR: ctgan-tf 0.1.4 has requirement pandas<1.0.2,>=1.0, but you'll have pandas 1.0.5 which is incompatible.\u001b[0m\n",
      "\u001b[31mERROR: ctgan-tf 0.1.4 has requirement scikit-learn<0.23,>=0.21, but you'll have scikit-learn 0.23.1 which is incompatible.\u001b[0m\n",
      "\u001b[31mERROR: ctgan-tf 0.1.4 has requirement tqdm<4.44,>=4.43, but you'll have tqdm 4.47.0 which is incompatible.\u001b[0m\n",
      "Installing collected packages: sqlparse, django, docutils, idna, requests, numpy, matplotlib, psutil, pyshp, h5py, pyzmq, openquake.engine\n",
      "  Attempting uninstall: docutils\n",
      "    Found existing installation: docutils 0.16\n",
      "    Uninstalling docutils-0.16:\n",
      "      Successfully uninstalled docutils-0.16\n",
      "  Attempting uninstall: idna\n",
      "    Found existing installation: idna 2.10\n",
      "    Uninstalling idna-2.10:\n",
      "      Successfully uninstalled idna-2.10\n",
      "  Attempting uninstall: requests\n",
      "    Found existing installation: requests 2.24.0\n",
      "    Uninstalling requests-2.24.0:\n",
      "      Successfully uninstalled requests-2.24.0\n",
      "  Attempting uninstall: numpy\n",
      "    Found existing installation: numpy 1.19.1\n",
      "    Uninstalling numpy-1.19.1:\n",
      "      Successfully uninstalled numpy-1.19.1\n",
      "  Attempting uninstall: matplotlib\n",
      "    Found existing installation: matplotlib 3.2.2\n",
      "    Uninstalling matplotlib-3.2.2:\n",
      "      Successfully uninstalled matplotlib-3.2.2\n",
      "  Attempting uninstall: psutil\n",
      "    Found existing installation: psutil 5.7.0\n",
      "    Uninstalling psutil-5.7.0:\n",
      "      Successfully uninstalled psutil-5.7.0\n",
      "  Attempting uninstall: h5py\n",
      "    Found existing installation: h5py 2.10.0\n",
      "    Uninstalling h5py-2.10.0:\n",
      "      Successfully uninstalled h5py-2.10.0\n",
      "  Attempting uninstall: pyzmq\n",
      "    Found existing installation: pyzmq 19.0.1\n",
      "    Uninstalling pyzmq-19.0.1:\n",
      "      Successfully uninstalled pyzmq-19.0.1\n",
      "Successfully installed django-2.2.15 docutils-0.14 h5py-2.9.0 idna-2.8 matplotlib-3.1.3 numpy-1.18.5 openquake.engine-3.9.0 psutil-5.6.7 pyshp-1.2.3 pyzmq-18.1.1 requests-2.22.0 sqlparse-0.3.1\n",
      "\u001b[33mWARNING: You are using pip version 20.2; however, version 20.2.1 is available.\n",
      "You should consider upgrading via the '/Users/alex/anaconda3/bin/python -m pip install --upgrade pip' command.\u001b[0m\n"
     ]
    }
   ],
   "source": [
    "# %%capture\n",
    "!pip install openquake.engine"
   ]
  },
  {
   "cell_type": "markdown",
   "metadata": {
    "colab_type": "text",
    "id": "4lPmf1qpmUf_"
   },
   "source": [
    "**Import libraries / paths**"
   ]
  },
  {
   "cell_type": "code",
   "execution_count": 3,
   "metadata": {
    "colab": {},
    "colab_type": "code",
    "id": "T9Yk3bRjgmTs"
   },
   "outputs": [],
   "source": [
    "import openquake\n",
    "import configparser\n",
    "import os\n",
    "from pathlib import Path\n",
    "import configparser"
   ]
  },
  {
   "cell_type": "code",
   "execution_count": 4,
   "metadata": {
    "colab": {},
    "colab_type": "code",
    "id": "4WevjMAHCdAU"
   },
   "outputs": [],
   "source": [
    "folder = Path('/content/drive/My Drive/Colab Notebooks/01_Repository/OpenQuake/oq ffe/oqInput_EventBasedPSHA')"
   ]
  },
  {
   "cell_type": "code",
   "execution_count": 5,
   "metadata": {
    "colab": {
     "base_uri": "https://localhost:8080/",
     "height": 35
    },
    "colab_type": "code",
    "id": "ZtNOR9Oae93i",
    "outputId": "327289d8-1aaf-4ae6-c369-fafc029a40cb"
   },
   "outputs": [
    {
     "name": "stdout",
     "output_type": "stream",
     "text": [
      "/content/drive/My Drive/Colab Notebooks/01_Repository/OpenQuake/oq ffe/oqInput_EventBasedPSHA\n"
     ]
    }
   ],
   "source": [
    "os.chdir(folder)\n",
    "!pwd"
   ]
  },
  {
   "cell_type": "code",
   "execution_count": 6,
   "metadata": {
    "colab": {
     "base_uri": "https://localhost:8080/",
     "height": 126
    },
    "colab_type": "code",
    "id": "sQY6G3fEUdbq",
    "outputId": "7865566c-6524-4422-ff11-7b9fbf8da052"
   },
   "outputs": [
    {
     "name": "stdout",
     "output_type": "stream",
     "text": [
      "gmpe_logic_tree-CVH_BNZSEE_0317-simple-LHC.xml\n",
      "job.ini\n",
      "rSHM_source-model_bk-NZBCK615_fl-F010519_mMin5pt0.xml\n",
      "source_model_logic_tree.xml\n",
      "tmp\n",
      "vs30Polygoncentroids.xml\n"
     ]
    }
   ],
   "source": [
    "!ls"
   ]
  },
  {
   "cell_type": "markdown",
   "metadata": {
    "colab_type": "text",
    "id": "YJE4xkrCmEiG"
   },
   "source": [
    "#Run OpenQuake"
   ]
  },
  {
   "cell_type": "markdown",
   "metadata": {
    "colab_type": "text",
    "id": "hASoJjdM19aK"
   },
   "source": [
    "***Shell commands seems to be working using the ! symbol - might be possible to run OpenQuake directly from GoogleColab***\n",
    "\n",
    "\n",
    "---\n",
    "\n"
   ]
  },
  {
   "cell_type": "code",
   "execution_count": 7,
   "metadata": {
    "colab": {},
    "colab_type": "code",
    "id": "Uajuc5Y4q0km"
   },
   "outputs": [],
   "source": [
    "# !oq engine --help"
   ]
  },
  {
   "cell_type": "code",
   "execution_count": 8,
   "metadata": {
    "colab": {
     "base_uri": "https://localhost:8080/",
     "height": 322
    },
    "colab_type": "code",
    "id": "6eBV3GslrPPu",
    "outputId": "27252744-5ea1-4c61-d039-e37080b51d9c"
   },
   "outputs": [
    {
     "ename": "KeyboardInterrupt",
     "evalue": "ignored",
     "output_type": "error",
     "traceback": [
      "\u001b[0;31m---------------------------------------------------------------------------\u001b[0m",
      "\u001b[0;31mKeyboardInterrupt\u001b[0m                         Traceback (most recent call last)",
      "\u001b[0;32m<ipython-input-8-eab05e607734>\u001b[0m in \u001b[0;36m<module>\u001b[0;34m()\u001b[0m\n\u001b[0;32m----> 1\u001b[0;31m \u001b[0mget_ipython\u001b[0m\u001b[0;34m(\u001b[0m\u001b[0;34m)\u001b[0m\u001b[0;34m.\u001b[0m\u001b[0msystem\u001b[0m\u001b[0;34m(\u001b[0m\u001b[0;34m'oq engine --run job.ini --exports csv'\u001b[0m\u001b[0;34m)\u001b[0m\u001b[0;34m\u001b[0m\u001b[0;34m\u001b[0m\u001b[0m\n\u001b[0m",
      "\u001b[0;32m/usr/local/lib/python3.6/dist-packages/google/colab/_shell.py\u001b[0m in \u001b[0;36msystem\u001b[0;34m(self, *args, **kwargs)\u001b[0m\n\u001b[1;32m    100\u001b[0m       \u001b[0mkwargs\u001b[0m\u001b[0;34m.\u001b[0m\u001b[0mupdate\u001b[0m\u001b[0;34m(\u001b[0m\u001b[0;34m{\u001b[0m\u001b[0;34m'also_return_output'\u001b[0m\u001b[0;34m:\u001b[0m \u001b[0;32mTrue\u001b[0m\u001b[0;34m}\u001b[0m\u001b[0;34m)\u001b[0m\u001b[0;34m\u001b[0m\u001b[0;34m\u001b[0m\u001b[0m\n\u001b[1;32m    101\u001b[0m \u001b[0;34m\u001b[0m\u001b[0m\n\u001b[0;32m--> 102\u001b[0;31m     \u001b[0moutput\u001b[0m \u001b[0;34m=\u001b[0m \u001b[0m_system_commands\u001b[0m\u001b[0;34m.\u001b[0m\u001b[0m_system_compat\u001b[0m\u001b[0;34m(\u001b[0m\u001b[0mself\u001b[0m\u001b[0;34m,\u001b[0m \u001b[0;34m*\u001b[0m\u001b[0margs\u001b[0m\u001b[0;34m,\u001b[0m \u001b[0;34m**\u001b[0m\u001b[0mkwargs\u001b[0m\u001b[0;34m)\u001b[0m  \u001b[0;31m# pylint:disable=protected-access\u001b[0m\u001b[0;34m\u001b[0m\u001b[0;34m\u001b[0m\u001b[0m\n\u001b[0m\u001b[1;32m    103\u001b[0m \u001b[0;34m\u001b[0m\u001b[0m\n\u001b[1;32m    104\u001b[0m     \u001b[0;32mif\u001b[0m \u001b[0mpip_warn\u001b[0m\u001b[0;34m:\u001b[0m\u001b[0;34m\u001b[0m\u001b[0;34m\u001b[0m\u001b[0m\n",
      "\u001b[0;32m/usr/local/lib/python3.6/dist-packages/google/colab/_system_commands.py\u001b[0m in \u001b[0;36m_system_compat\u001b[0;34m(shell, cmd, also_return_output)\u001b[0m\n\u001b[1;32m    436\u001b[0m   \u001b[0;31m# stack.\u001b[0m\u001b[0;34m\u001b[0m\u001b[0;34m\u001b[0m\u001b[0;34m\u001b[0m\u001b[0m\n\u001b[1;32m    437\u001b[0m   result = _run_command(\n\u001b[0;32m--> 438\u001b[0;31m       shell.var_expand(cmd, depth=2), clear_streamed_output=False)\n\u001b[0m\u001b[1;32m    439\u001b[0m   \u001b[0mshell\u001b[0m\u001b[0;34m.\u001b[0m\u001b[0muser_ns\u001b[0m\u001b[0;34m[\u001b[0m\u001b[0;34m'_exit_code'\u001b[0m\u001b[0;34m]\u001b[0m \u001b[0;34m=\u001b[0m \u001b[0mresult\u001b[0m\u001b[0;34m.\u001b[0m\u001b[0mreturncode\u001b[0m\u001b[0;34m\u001b[0m\u001b[0;34m\u001b[0m\u001b[0m\n\u001b[1;32m    440\u001b[0m   \u001b[0;32mif\u001b[0m \u001b[0;34m-\u001b[0m\u001b[0mresult\u001b[0m\u001b[0;34m.\u001b[0m\u001b[0mreturncode\u001b[0m \u001b[0;32min\u001b[0m \u001b[0m_INTERRUPTED_SIGNALS\u001b[0m\u001b[0;34m:\u001b[0m\u001b[0;34m\u001b[0m\u001b[0;34m\u001b[0m\u001b[0m\n",
      "\u001b[0;32m/usr/local/lib/python3.6/dist-packages/google/colab/_system_commands.py\u001b[0m in \u001b[0;36m_run_command\u001b[0;34m(cmd, clear_streamed_output)\u001b[0m\n\u001b[1;32m    193\u001b[0m       \u001b[0mos\u001b[0m\u001b[0;34m.\u001b[0m\u001b[0mclose\u001b[0m\u001b[0;34m(\u001b[0m\u001b[0mchild_pty\u001b[0m\u001b[0;34m)\u001b[0m\u001b[0;34m\u001b[0m\u001b[0;34m\u001b[0m\u001b[0m\n\u001b[1;32m    194\u001b[0m \u001b[0;34m\u001b[0m\u001b[0m\n\u001b[0;32m--> 195\u001b[0;31m       \u001b[0;32mreturn\u001b[0m \u001b[0m_monitor_process\u001b[0m\u001b[0;34m(\u001b[0m\u001b[0mparent_pty\u001b[0m\u001b[0;34m,\u001b[0m \u001b[0mepoll\u001b[0m\u001b[0;34m,\u001b[0m \u001b[0mp\u001b[0m\u001b[0;34m,\u001b[0m \u001b[0mcmd\u001b[0m\u001b[0;34m,\u001b[0m \u001b[0mupdate_stdin_widget\u001b[0m\u001b[0;34m)\u001b[0m\u001b[0;34m\u001b[0m\u001b[0;34m\u001b[0m\u001b[0m\n\u001b[0m\u001b[1;32m    196\u001b[0m   \u001b[0;32mfinally\u001b[0m\u001b[0;34m:\u001b[0m\u001b[0;34m\u001b[0m\u001b[0;34m\u001b[0m\u001b[0m\n\u001b[1;32m    197\u001b[0m     \u001b[0mepoll\u001b[0m\u001b[0;34m.\u001b[0m\u001b[0mclose\u001b[0m\u001b[0;34m(\u001b[0m\u001b[0;34m)\u001b[0m\u001b[0;34m\u001b[0m\u001b[0;34m\u001b[0m\u001b[0m\n",
      "\u001b[0;32m/usr/local/lib/python3.6/dist-packages/google/colab/_system_commands.py\u001b[0m in \u001b[0;36m_monitor_process\u001b[0;34m(parent_pty, epoll, p, cmd, update_stdin_widget)\u001b[0m\n\u001b[1;32m    220\u001b[0m   \u001b[0;32mwhile\u001b[0m \u001b[0;32mTrue\u001b[0m\u001b[0;34m:\u001b[0m\u001b[0;34m\u001b[0m\u001b[0;34m\u001b[0m\u001b[0m\n\u001b[1;32m    221\u001b[0m     \u001b[0;32mtry\u001b[0m\u001b[0;34m:\u001b[0m\u001b[0;34m\u001b[0m\u001b[0;34m\u001b[0m\u001b[0m\n\u001b[0;32m--> 222\u001b[0;31m       \u001b[0mresult\u001b[0m \u001b[0;34m=\u001b[0m \u001b[0m_poll_process\u001b[0m\u001b[0;34m(\u001b[0m\u001b[0mparent_pty\u001b[0m\u001b[0;34m,\u001b[0m \u001b[0mepoll\u001b[0m\u001b[0;34m,\u001b[0m \u001b[0mp\u001b[0m\u001b[0;34m,\u001b[0m \u001b[0mcmd\u001b[0m\u001b[0;34m,\u001b[0m \u001b[0mdecoder\u001b[0m\u001b[0;34m,\u001b[0m \u001b[0mstate\u001b[0m\u001b[0;34m)\u001b[0m\u001b[0;34m\u001b[0m\u001b[0;34m\u001b[0m\u001b[0m\n\u001b[0m\u001b[1;32m    223\u001b[0m       \u001b[0;32mif\u001b[0m \u001b[0mresult\u001b[0m \u001b[0;32mis\u001b[0m \u001b[0;32mnot\u001b[0m \u001b[0;32mNone\u001b[0m\u001b[0;34m:\u001b[0m\u001b[0;34m\u001b[0m\u001b[0;34m\u001b[0m\u001b[0m\n\u001b[1;32m    224\u001b[0m         \u001b[0;32mreturn\u001b[0m \u001b[0mresult\u001b[0m\u001b[0;34m\u001b[0m\u001b[0;34m\u001b[0m\u001b[0m\n",
      "\u001b[0;32m/usr/local/lib/python3.6/dist-packages/google/colab/_system_commands.py\u001b[0m in \u001b[0;36m_poll_process\u001b[0;34m(parent_pty, epoll, p, cmd, decoder, state)\u001b[0m\n\u001b[1;32m    267\u001b[0m   \u001b[0moutput_available\u001b[0m \u001b[0;34m=\u001b[0m \u001b[0;32mFalse\u001b[0m\u001b[0;34m\u001b[0m\u001b[0;34m\u001b[0m\u001b[0m\n\u001b[1;32m    268\u001b[0m \u001b[0;34m\u001b[0m\u001b[0m\n\u001b[0;32m--> 269\u001b[0;31m   \u001b[0mevents\u001b[0m \u001b[0;34m=\u001b[0m \u001b[0mepoll\u001b[0m\u001b[0;34m.\u001b[0m\u001b[0mpoll\u001b[0m\u001b[0;34m(\u001b[0m\u001b[0;34m)\u001b[0m\u001b[0;34m\u001b[0m\u001b[0;34m\u001b[0m\u001b[0m\n\u001b[0m\u001b[1;32m    270\u001b[0m   \u001b[0minput_events\u001b[0m \u001b[0;34m=\u001b[0m \u001b[0;34m[\u001b[0m\u001b[0;34m]\u001b[0m\u001b[0;34m\u001b[0m\u001b[0;34m\u001b[0m\u001b[0m\n\u001b[1;32m    271\u001b[0m   \u001b[0;32mfor\u001b[0m \u001b[0m_\u001b[0m\u001b[0;34m,\u001b[0m \u001b[0mevent\u001b[0m \u001b[0;32min\u001b[0m \u001b[0mevents\u001b[0m\u001b[0;34m:\u001b[0m\u001b[0;34m\u001b[0m\u001b[0;34m\u001b[0m\u001b[0m\n",
      "\u001b[0;31mKeyboardInterrupt\u001b[0m: "
     ]
    }
   ],
   "source": [
    "!oq engine --run job.ini --exports csv"
   ]
  },
  {
   "cell_type": "markdown",
   "metadata": {
    "colab_type": "text",
    "id": "Hg38BBP2r1km"
   },
   "source": [
    "# Manage Outputs"
   ]
  },
  {
   "cell_type": "code",
   "execution_count": 9,
   "metadata": {
    "colab": {
     "base_uri": "https://localhost:8080/",
     "height": 35
    },
    "colab_type": "code",
    "id": "oPnC9Ep0r6KC",
    "outputId": "581d55dc-ada1-45dc-d583-826ca5544bbb"
   },
   "outputs": [
    {
     "data": {
      "text/plain": [
       "PosixPath('/content/drive/My Drive/Colab Notebooks/01_Repository/OpenQuake/oq ffe/oqInput_EventBasedPSHA')"
      ]
     },
     "execution_count": 9,
     "metadata": {
      "tags": []
     },
     "output_type": "execute_result"
    }
   ],
   "source": [
    "folder"
   ]
  },
  {
   "cell_type": "code",
   "execution_count": 10,
   "metadata": {
    "colab": {
     "base_uri": "https://localhost:8080/",
     "height": 308
    },
    "colab_type": "code",
    "id": "1D8g-lYWsDhX",
    "outputId": "f42918a5-91d0-40ab-e664-e2f57546e65a"
   },
   "outputs": [
    {
     "data": {
      "text/plain": [
       "['events_2.csv',\n",
       " 'sitemesh_2.csv',\n",
       " 'gmf-data_2.csv',\n",
       " 'sigma_epsilon_2.csv',\n",
       " 'hazard_curve-mean-PGA_2.csv',\n",
       " 'quantile_curve-0.5-PGA_2.csv',\n",
       " 'quantile_curve-0.84-PGA_2.csv',\n",
       " 'ruptures_2.csv',\n",
       " 'events_1.csv',\n",
       " 'sitemesh_1.csv',\n",
       " 'gmf-data_1.csv',\n",
       " 'sigma_epsilon_1.csv',\n",
       " 'hazard_curve-mean-PGA_1.csv',\n",
       " 'quantile_curve-0.5-PGA_1.csv',\n",
       " 'quantile_curve-0.84-PGA_1.csv',\n",
       " 'ruptures_1.csv']"
      ]
     },
     "execution_count": 10,
     "metadata": {
      "tags": []
     },
     "output_type": "execute_result"
    }
   ],
   "source": [
    "output = folder / 'tmp'\n",
    "os.listdir(output)"
   ]
  },
  {
   "cell_type": "markdown",
   "metadata": {
    "colab_type": "text",
    "id": "WzGkw2T9tRtv"
   },
   "source": [
    "## import libraries"
   ]
  },
  {
   "cell_type": "code",
   "execution_count": 15,
   "metadata": {
    "colab": {
     "base_uri": "https://localhost:8080/",
     "height": 54
    },
    "colab_type": "code",
    "id": "u7byV_A9scn-",
    "outputId": "7b937ee9-c260-43c3-8824-18ac06c39fef"
   },
   "outputs": [
    {
     "name": "stdout",
     "output_type": "stream",
     "text": [
      "CPU times: user 818 ms, sys: 150 ms, total: 968 ms\n",
      "Wall time: 5min\n"
     ]
    }
   ],
   "source": [
    "%%time\n",
    "%%capture\n",
    "!apt update\n",
    "!apt upgrade\n",
    "!apt install gdal-bin python-gdal python3-gdal\n",
    "# Install rtree - Geopandas requirment\n",
    "!apt install python3-rtree\n",
    "# Install Geopandas\n",
    "!pip install git+git://github.com/geopandas/geopandas.git\n",
    "# Install descartes - Geopandas requirment\n",
    "!pip install descartes\n",
    "!pip install memory_profiler\n",
    "\n",
    "#contextily\n",
    "!pip3 install contextily"
   ]
  },
  {
   "cell_type": "code",
   "execution_count": 18,
   "metadata": {
    "colab": {
     "base_uri": "https://localhost:8080/",
     "height": 74
    },
    "colab_type": "code",
    "id": "wegOtULbsJPt",
    "outputId": "7871a81a-c0af-4958-84ea-7df78458fcf0"
   },
   "outputs": [
    {
     "name": "stderr",
     "output_type": "stream",
     "text": [
      "/usr/local/lib/python3.6/dist-packages/statsmodels/tools/_testing.py:19: FutureWarning: pandas.util.testing is deprecated. Use the functions in the public API at pandas.testing instead.\n",
      "  import pandas.util.testing as tm\n"
     ]
    }
   ],
   "source": [
    "import pandas as pd\n",
    "import numpy as np\n",
    "from shapely.geometry import box\n",
    "import geopandas as gpd\n",
    "import matplotlib.pyplot as plt\n",
    "from textwrap import wrap\n",
    "from sklearn import preprocessing\n",
    "import contextily as ctx\n",
    "import seaborn as sns\n",
    "\n",
    "plt.style.use('seaborn-colorblind')"
   ]
  },
  {
   "cell_type": "markdown",
   "metadata": {
    "colab_type": "text",
    "id": "qJUfJtTutwWN"
   },
   "source": [
    "## check outputs"
   ]
  },
  {
   "cell_type": "code",
   "execution_count": 19,
   "metadata": {
    "colab": {},
    "colab_type": "code",
    "id": "LQOTUiMttvuL"
   },
   "outputs": [],
   "source": [
    "hzdCurves = pd.read_csv(output / 'hazard_curve-mean-PGA_2.csv', header = 1)\n",
    "events = pd.read_csv(output / 'events_2.csv')\n",
    "gmf = pd.read_csv(output / 'gmf-data_2.csv')"
   ]
  },
  {
   "cell_type": "code",
   "execution_count": 20,
   "metadata": {
    "colab": {
     "base_uri": "https://localhost:8080/",
     "height": 35
    },
    "colab_type": "code",
    "id": "cIFfxCG8uwsq",
    "outputId": "e07f5527-7d56-4089-d468-a2ea08b50a94"
   },
   "outputs": [
    {
     "data": {
      "text/plain": [
       "76"
      ]
     },
     "execution_count": 20,
     "metadata": {
      "tags": []
     },
     "output_type": "execute_result"
    }
   ],
   "source": [
    "len(hzdCurves)"
   ]
  },
  {
   "cell_type": "code",
   "execution_count": 21,
   "metadata": {
    "colab": {
     "base_uri": "https://localhost:8080/",
     "height": 198
    },
    "colab_type": "code",
    "id": "giapazXvu1Mx",
    "outputId": "0176358f-0824-4b58-b441-b864bfd22113"
   },
   "outputs": [
    {
     "data": {
      "text/html": [
       "<div>\n",
       "<style scoped>\n",
       "    .dataframe tbody tr th:only-of-type {\n",
       "        vertical-align: middle;\n",
       "    }\n",
       "\n",
       "    .dataframe tbody tr th {\n",
       "        vertical-align: top;\n",
       "    }\n",
       "\n",
       "    .dataframe thead th {\n",
       "        text-align: right;\n",
       "    }\n",
       "</style>\n",
       "<table border=\"1\" class=\"dataframe\">\n",
       "  <thead>\n",
       "    <tr style=\"text-align: right;\">\n",
       "      <th></th>\n",
       "      <th>lon</th>\n",
       "      <th>lat</th>\n",
       "      <th>depth</th>\n",
       "      <th>poe-0.1000000</th>\n",
       "      <th>poe-0.4000000</th>\n",
       "      <th>poe-0.6000000</th>\n",
       "    </tr>\n",
       "  </thead>\n",
       "  <tbody>\n",
       "    <tr>\n",
       "      <th>0</th>\n",
       "      <td>174.82111</td>\n",
       "      <td>-41.1643</td>\n",
       "      <td>0.0</td>\n",
       "      <td>0.068003</td>\n",
       "      <td>0.003804</td>\n",
       "      <td>0.001249</td>\n",
       "    </tr>\n",
       "    <tr>\n",
       "      <th>1</th>\n",
       "      <td>174.72530</td>\n",
       "      <td>-41.2838</td>\n",
       "      <td>0.0</td>\n",
       "      <td>0.069522</td>\n",
       "      <td>0.003944</td>\n",
       "      <td>0.001561</td>\n",
       "    </tr>\n",
       "    <tr>\n",
       "      <th>2</th>\n",
       "      <td>174.78860</td>\n",
       "      <td>-41.2526</td>\n",
       "      <td>0.0</td>\n",
       "      <td>0.069570</td>\n",
       "      <td>0.003742</td>\n",
       "      <td>0.001467</td>\n",
       "    </tr>\n",
       "    <tr>\n",
       "      <th>3</th>\n",
       "      <td>174.80280</td>\n",
       "      <td>-41.2495</td>\n",
       "      <td>0.0</td>\n",
       "      <td>0.066316</td>\n",
       "      <td>0.003990</td>\n",
       "      <td>0.001311</td>\n",
       "    </tr>\n",
       "    <tr>\n",
       "      <th>4</th>\n",
       "      <td>174.76871</td>\n",
       "      <td>-41.2825</td>\n",
       "      <td>0.0</td>\n",
       "      <td>0.069000</td>\n",
       "      <td>0.003820</td>\n",
       "      <td>0.001374</td>\n",
       "    </tr>\n",
       "  </tbody>\n",
       "</table>\n",
       "</div>"
      ],
      "text/plain": [
       "         lon      lat  depth  poe-0.1000000  poe-0.4000000  poe-0.6000000\n",
       "0  174.82111 -41.1643    0.0       0.068003       0.003804       0.001249\n",
       "1  174.72530 -41.2838    0.0       0.069522       0.003944       0.001561\n",
       "2  174.78860 -41.2526    0.0       0.069570       0.003742       0.001467\n",
       "3  174.80280 -41.2495    0.0       0.066316       0.003990       0.001311\n",
       "4  174.76871 -41.2825    0.0       0.069000       0.003820       0.001374"
      ]
     },
     "execution_count": 21,
     "metadata": {
      "tags": []
     },
     "output_type": "execute_result"
    }
   ],
   "source": [
    "hzdCurves.iloc[:5,:6]"
   ]
  },
  {
   "cell_type": "code",
   "execution_count": 22,
   "metadata": {
    "colab": {},
    "colab_type": "code",
    "id": "ub5Oip9u9Xv1"
   },
   "outputs": [],
   "source": [
    "curveFile = output / 'hazard_curve-mean-PGA_2.csv'"
   ]
  },
  {
   "cell_type": "code",
   "execution_count": 23,
   "metadata": {
    "colab": {},
    "colab_type": "code",
    "id": "EMuEXba94N-I"
   },
   "outputs": [],
   "source": [
    "def getHazCurves(hazCurveFile, IMs=None, row=0):\n",
    "    \"\"\"\n",
    "    Input: OQ hazard curve file, IMs targets (array), row number (linked to site)\n",
    "    Output: IMs array, hazPoes (corresponding probability of exceedences),\n",
    "    hazRates (corresponding rate of hazard - PDF )\n",
    "    \"\"\"\n",
    "    if IMs is None:\n",
    "        IMs=np.arange(0,10,0.01)\n",
    "    # HAZARD CURVE\n",
    "    fName = hazCurveFile\n",
    "    df = pd.read_csv(fName, header=1)\n",
    "    # Reformat columns names\n",
    "    oqIMs = [x.split('-')[-1] for x in df.columns[3:]]\n",
    "    oqIMs = [float(x) for x in oqIMs]\n",
    "    # Interp haz poes at IMs\n",
    "    hazPoes=np.interp(IMs, oqIMs, df.loc[row][3:])\n",
    "    # Calculate the rate of each IM\n",
    "    hazRates=[hazPoes[i]-hazPoes[i+1] for i in range(0,len(hazPoes)-1)]\n",
    "\n",
    "    return IMs, hazPoes, hazRates"
   ]
  },
  {
   "cell_type": "code",
   "execution_count": 26,
   "metadata": {
    "colab": {},
    "colab_type": "code",
    "id": "f1Crp5BF8m5-"
   },
   "outputs": [],
   "source": [
    "IMrange = np.arange(0, 1, 0.1)\n",
    "IM, Poes, Rates = getHazCurves(curveFile, IMs=IMrange)"
   ]
  },
  {
   "cell_type": "code",
   "execution_count": 27,
   "metadata": {
    "colab": {
     "base_uri": "https://localhost:8080/",
     "height": 265
    },
    "colab_type": "code",
    "id": "YD1rDNqU9muJ",
    "outputId": "7feb87e5-eee3-4a5b-a65f-e4f4b9574e6e"
   },
   "outputs": [
    {
     "data": {
      "image/png": "[encoded data removed]",
      "text/plain": [
       "<Figure size 432x288 with 1 Axes>"
      ]
     },
     "metadata": {
      "needs_background": "light",
      "tags": []
     },
     "output_type": "display_data"
    }
   ],
   "source": [
    "fig, (ax1) = plt.subplots(nrows=1, ncols=1)\n",
    "ax1.plot(IM, Poes)\n",
    "ax1.set_yscale(\"log\")"
   ]
  },
  {
   "cell_type": "code",
   "execution_count": null,
   "metadata": {
    "colab": {},
    "colab_type": "code",
    "id": "b9vOLABb9u85"
   },
   "outputs": [],
   "source": []
  }
 ],
 "metadata": {
  "colab": {
   "include_colab_link": true,
   "machine_shape": "hm",
   "name": "OpenQuake_FFE.ipynb",
   "provenance": [],
   "toc_visible": true
  },
  "kernelspec": {
   "display_name": "Python 3",
   "language": "python",
   "name": "python3"
  },
  "language_info": {
   "codemirror_mode": {
    "name": "ipython",
    "version": 3
   },
   "file_extension": ".py",
   "mimetype": "text/x-python",
   "name": "python",
   "nbconvert_exporter": "python",
   "pygments_lexer": "ipython3",
   "version": "3.7.3"
  }
 },
 "nbformat": 4,
 "nbformat_minor": 1
}
