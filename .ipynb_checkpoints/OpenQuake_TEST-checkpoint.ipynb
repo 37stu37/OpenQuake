{
 "cells": [
  {
   "cell_type": "markdown",
   "metadata": {
    "colab_type": "text",
    "id": "view-in-github"
   },
   "source": [
    "<a href=\"https://colab.research.google.com/github/37stu37/OpenQuake/blob/master/OpenQuake_TEST.ipynb\" target=\"_parent\"><img src=\"https://colab.research.google.com/assets/colab-badge.svg\" alt=\"Open In Colab\"/></a>"
   ]
  },
  {
   "cell_type": "markdown",
   "metadata": {
    "colab_type": "text",
    "id": "RxZNLdfcmOUm"
   },
   "source": [
    "#Install Colab / OpenQuake"
   ]
  },
  {
   "cell_type": "code",
   "execution_count": 2,
   "metadata": {
    "colab": {
     "base_uri": "https://localhost:8080/",
     "height": 35
    },
    "colab_type": "code",
    "id": "4vYwwf5aCFKd",
    "outputId": "7deb56ad-9f8a-43bc-e33c-1695fc436040"
   },
   "outputs": [
    {
     "name": "stdout",
     "output_type": "stream",
     "text": [
      "Drive already mounted at /content/drive; to attempt to forcibly remount, call drive.mount(\"/content/drive\", force_remount=True).\n"
     ]
    }
   ],
   "source": [
    "from google.colab import drive\n",
    "drive.mount('/content/drive')"
   ]
  },
  {
   "cell_type": "code",
   "execution_count": 3,
   "metadata": {
    "colab": {},
    "colab_type": "code",
    "id": "e8ON2byeXAxq"
   },
   "outputs": [],
   "source": [
    "%%capture\n",
    "!pip install openquake.engine"
   ]
  },
  {
   "cell_type": "markdown",
   "metadata": {
    "colab_type": "text",
    "id": "4lPmf1qpmUf_"
   },
   "source": [
    "#Import libraries / paths"
   ]
  },
  {
   "cell_type": "code",
   "execution_count": 4,
   "metadata": {
    "colab": {},
    "colab_type": "code",
    "id": "T9Yk3bRjgmTs"
   },
   "outputs": [],
   "source": [
    "import openquake\n",
    "import configparser\n",
    "import os\n",
    "from pathlib import Path\n",
    "import configparser"
   ]
  },
  {
   "cell_type": "code",
   "execution_count": 5,
   "metadata": {
    "colab": {},
    "colab_type": "code",
    "id": "4WevjMAHCdAU"
   },
   "outputs": [],
   "source": [
    "folder = Path('/content/drive/My Drive/Colab Notebooks/01_Repository/OpenQuake/oq ffe/test_oqEventBased')\n",
    "# files = folder / 'oqInput_EventBasedPSHA'"
   ]
  },
  {
   "cell_type": "code",
   "execution_count": 6,
   "metadata": {
    "colab": {
     "base_uri": "https://localhost:8080/",
     "height": 35
    },
    "colab_type": "code",
    "id": "ZtNOR9Oae93i",
    "outputId": "716815c7-9f1b-481d-c4fe-ee90ef775acc"
   },
   "outputs": [
    {
     "name": "stdout",
     "output_type": "stream",
     "text": [
      "/content/drive/My Drive/Colab Notebooks/01_Repository/OpenQuake/oq ffe/test_oqEventBased\n"
     ]
    }
   ],
   "source": [
    "os.chdir(folder)\n",
    "!pwd"
   ]
  },
  {
   "cell_type": "code",
   "execution_count": 7,
   "metadata": {
    "colab": {
     "base_uri": "https://localhost:8080/",
     "height": 72
    },
    "colab_type": "code",
    "id": "sQY6G3fEUdbq",
    "outputId": "f34f57c5-b3f4-4459-f854-251d7aec9f13"
   },
   "outputs": [
    {
     "name": "stdout",
     "output_type": "stream",
     "text": [
      "expected\t\t    __init__.py       report.rst\n",
      "gsim_by_imt_logic_tree.xml  job.ini\t      source_model_logic_tree.xml\n",
      "gsim_logic_tree.xml\t    job_ruptures.ini  source_model.xml\n"
     ]
    }
   ],
   "source": [
    "!ls"
   ]
  },
  {
   "cell_type": "markdown",
   "metadata": {
    "colab_type": "text",
    "id": "wQnRoeoAmdK0"
   },
   "source": [
    "#Check ini file"
   ]
  },
  {
   "cell_type": "code",
   "execution_count": 8,
   "metadata": {
    "colab": {
     "base_uri": "https://localhost:8080/",
     "height": 35
    },
    "colab_type": "code",
    "id": "m6fEQkxFiJcc",
    "outputId": "05279425-6cb2-4bd6-e301-42d2d516f588"
   },
   "outputs": [
    {
     "data": {
      "application/vnd.google.colaboratory.intrinsic+json": {
       "type": "string"
      },
      "text/plain": [
       "'event_based'"
      ]
     },
     "execution_count": 8,
     "metadata": {
      "tags": []
     },
     "output_type": "execute_result"
    }
   ],
   "source": [
    "settings = configparser.ConfigParser()\n",
    "settings._interpolation = configparser.ExtendedInterpolation()\n",
    "settings.read(folder / 'job.ini')\n",
    "# ['settings.ini']\n",
    "settings.sections()\n",
    "# ['SectionOne', 'SectionTwo', 'SectionThree']\n",
    "settings.get('general', 'calculation_mode')"
   ]
  },
  {
   "cell_type": "markdown",
   "metadata": {
    "colab_type": "text",
    "id": "dB06Zt66l4TS"
   },
   "source": [
    "#Update the ini files "
   ]
  },
  {
   "cell_type": "code",
   "execution_count": 9,
   "metadata": {
    "colab": {},
    "colab_type": "code",
    "id": "jpXqMwDxi_EI"
   },
   "outputs": [],
   "source": [
    "# settings.set('calculation', 'maximum_distance', \"50\")\n",
    "# settings.get('calculation', 'maximum_distance')"
   ]
  },
  {
   "cell_type": "code",
   "execution_count": 10,
   "metadata": {
    "colab": {},
    "colab_type": "code",
    "id": "COaMypuulDCA"
   },
   "outputs": [],
   "source": [
    "# save ini files with changes\n",
    "# with open(files / 'job_Test.ini', \"w\") as f:\n",
    "#     settings.write(f)"
   ]
  },
  {
   "cell_type": "markdown",
   "metadata": {
    "colab_type": "text",
    "id": "YJE4xkrCmEiG"
   },
   "source": [
    "#Run OpenQuake"
   ]
  },
  {
   "cell_type": "markdown",
   "metadata": {
    "colab_type": "text",
    "id": "hASoJjdM19aK"
   },
   "source": [
    "***Shell commands seems to be working using the ! symbol - might be possible to run OpenQuake directly from GoogleColab***\n",
    "\n",
    "\n",
    "---\n",
    "\n"
   ]
  },
  {
   "cell_type": "code",
   "execution_count": 11,
   "metadata": {
    "colab": {},
    "colab_type": "code",
    "id": "Uajuc5Y4q0km"
   },
   "outputs": [],
   "source": [
    "# !oq engine --help"
   ]
  },
  {
   "cell_type": "code",
   "execution_count": null,
   "metadata": {
    "colab": {},
    "colab_type": "code",
    "id": "6eBV3GslrPPu"
   },
   "outputs": [],
   "source": [
    "!oq engine --run job.ini --exports csv"
   ]
  }
 ],
 "metadata": {
  "colab": {
   "include_colab_link": true,
   "machine_shape": "hm",
   "name": "OpenQuake_TEST.ipynb",
   "provenance": [],
   "toc_visible": true
  },
  "kernelspec": {
   "display_name": "Python 3",
   "language": "python",
   "name": "python3"
  },
  "language_info": {
   "codemirror_mode": {
    "name": "ipython",
    "version": 3
   },
   "file_extension": ".py",
   "mimetype": "text/x-python",
   "name": "python",
   "nbconvert_exporter": "python",
   "pygments_lexer": "ipython3",
   "version": "3.7.3"
  }
 },
 "nbformat": 4,
 "nbformat_minor": 1
}
