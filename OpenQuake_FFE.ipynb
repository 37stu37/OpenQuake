{
  "nbformat": 4,
  "nbformat_minor": 0,
  "metadata": {
    "colab": {
      "name": "OpenQuake_FFE.ipynb",
      "provenance": [],
      "toc_visible": true,
      "machine_shape": "hm",
      "include_colab_link": true
    },
    "kernelspec": {
      "name": "python3",
      "display_name": "Python 3"
    }
  },
  "cells": [
    {
      "cell_type": "markdown",
      "metadata": {
        "id": "view-in-github",
        "colab_type": "text"
      },
      "source": [
        "<a href=\"https://colab.research.google.com/github/37stu37/OpenQuake/blob/master/OpenQuake_FFE.ipynb\" target=\"_parent\"><img src=\"https://colab.research.google.com/assets/colab-badge.svg\" alt=\"Open In Colab\"/></a>"
      ]
    },
    {
      "cell_type": "markdown",
      "metadata": {
        "id": "RxZNLdfcmOUm",
        "colab_type": "text"
      },
      "source": [
        "#Install Colab / OpenQuake"
      ]
    },
    {
      "cell_type": "code",
      "metadata": {
        "id": "4vYwwf5aCFKd",
        "colab_type": "code",
        "colab": {
          "base_uri": "https://localhost:8080/",
          "height": 35
        },
        "outputId": "f03d6aca-75dc-43a0-be20-8e99a5fc8fc3"
      },
      "source": [
        "from google.colab import drive\n",
        "drive.mount('/content/drive')"
      ],
      "execution_count": 9,
      "outputs": [
        {
          "output_type": "stream",
          "text": [
            "Drive already mounted at /content/drive; to attempt to forcibly remount, call drive.mount(\"/content/drive\", force_remount=True).\n"
          ],
          "name": "stdout"
        }
      ]
    },
    {
      "cell_type": "code",
      "metadata": {
        "id": "e8ON2byeXAxq",
        "colab_type": "code",
        "colab": {}
      },
      "source": [
        "%%capture\n",
        "!pip install openquake.engine"
      ],
      "execution_count": 10,
      "outputs": []
    },
    {
      "cell_type": "markdown",
      "metadata": {
        "id": "4lPmf1qpmUf_",
        "colab_type": "text"
      },
      "source": [
        "#Import libraries / paths"
      ]
    },
    {
      "cell_type": "code",
      "metadata": {
        "id": "T9Yk3bRjgmTs",
        "colab_type": "code",
        "colab": {}
      },
      "source": [
        "import openquake\n",
        "import configparser\n",
        "import os\n",
        "from pathlib import Path\n",
        "import configparser"
      ],
      "execution_count": 11,
      "outputs": []
    },
    {
      "cell_type": "code",
      "metadata": {
        "id": "4WevjMAHCdAU",
        "colab_type": "code",
        "colab": {}
      },
      "source": [
        "folder = Path('/content/drive/My Drive/Colab Notebooks/01_Repository/OpenQuake/oq ffe/oqInput_EventBasedPSHA')"
      ],
      "execution_count": 12,
      "outputs": []
    },
    {
      "cell_type": "code",
      "metadata": {
        "id": "ZtNOR9Oae93i",
        "colab_type": "code",
        "colab": {
          "base_uri": "https://localhost:8080/",
          "height": 35
        },
        "outputId": "94b9ecac-b80f-4a16-f7b9-e4e8397b9858"
      },
      "source": [
        "os.chdir(folder)\n",
        "!pwd"
      ],
      "execution_count": 13,
      "outputs": [
        {
          "output_type": "stream",
          "text": [
            "/content/drive/My Drive/Colab Notebooks/01_Repository/OpenQuake/oq ffe/oqInput_EventBasedPSHA\n"
          ],
          "name": "stdout"
        }
      ]
    },
    {
      "cell_type": "code",
      "metadata": {
        "id": "sQY6G3fEUdbq",
        "colab_type": "code",
        "colab": {
          "base_uri": "https://localhost:8080/",
          "height": 126
        },
        "outputId": "b90aef1f-1197-49aa-c25c-d1fbb6667ac6"
      },
      "source": [
        "!ls"
      ],
      "execution_count": 22,
      "outputs": [
        {
          "output_type": "stream",
          "text": [
            "gmpe_logic_tree-CVH_BNZSEE_0317-simple-LHC.xml\n",
            "job.ini\n",
            "rSHM_source-model_bk-NZBCK615_fl-F010519_mMin5pt0.xml\n",
            "source_model_logic_tree.xml\n",
            "tmp\n",
            "vs30Polygoncentroids.xml\n"
          ],
          "name": "stdout"
        }
      ]
    },
    {
      "cell_type": "markdown",
      "metadata": {
        "id": "YJE4xkrCmEiG",
        "colab_type": "text"
      },
      "source": [
        "#Run OpenQuake"
      ]
    },
    {
      "cell_type": "markdown",
      "metadata": {
        "id": "hASoJjdM19aK",
        "colab_type": "text"
      },
      "source": [
        "***Shell commands seems to be working using the ! symbol - might be possible to run OpenQuake directly from GoogleColab***\n",
        "\n",
        "\n",
        "---\n",
        "\n"
      ]
    },
    {
      "cell_type": "code",
      "metadata": {
        "id": "Uajuc5Y4q0km",
        "colab_type": "code",
        "colab": {}
      },
      "source": [
        "# !oq engine --help"
      ],
      "execution_count": 15,
      "outputs": []
    },
    {
      "cell_type": "code",
      "metadata": {
        "id": "6eBV3GslrPPu",
        "colab_type": "code",
        "colab": {}
      },
      "source": [
        "!oq engine --run job.ini --exports csv"
      ],
      "execution_count": null,
      "outputs": []
    },
    {
      "cell_type": "markdown",
      "metadata": {
        "id": "Hg38BBP2r1km",
        "colab_type": "text"
      },
      "source": [
        "# Manage Outputs"
      ]
    },
    {
      "cell_type": "code",
      "metadata": {
        "id": "oPnC9Ep0r6KC",
        "colab_type": "code",
        "colab": {
          "base_uri": "https://localhost:8080/",
          "height": 35
        },
        "outputId": "3a470925-59a5-4b42-9401-cda79a830056"
      },
      "source": [
        "folder"
      ],
      "execution_count": 25,
      "outputs": [
        {
          "output_type": "execute_result",
          "data": {
            "text/plain": [
              "PosixPath('/content/drive/My Drive/Colab Notebooks/01_Repository/OpenQuake/oq ffe/oqInput_EventBasedPSHA')"
            ]
          },
          "metadata": {
            "tags": []
          },
          "execution_count": 25
        }
      ]
    },
    {
      "cell_type": "code",
      "metadata": {
        "id": "1D8g-lYWsDhX",
        "colab_type": "code",
        "colab": {
          "base_uri": "https://localhost:8080/",
          "height": 163
        },
        "outputId": "eb270e72-0933-4172-d87d-d72ac375641a"
      },
      "source": [
        "output = folder / 'tmp'\n",
        "os.listdir(output)"
      ],
      "execution_count": 27,
      "outputs": [
        {
          "output_type": "execute_result",
          "data": {
            "text/plain": [
              "['events_2.csv',\n",
              " 'sitemesh_2.csv',\n",
              " 'gmf-data_2.csv',\n",
              " 'sigma_epsilon_2.csv',\n",
              " 'hazard_curve-mean-PGA_2.csv',\n",
              " 'quantile_curve-0.5-PGA_2.csv',\n",
              " 'quantile_curve-0.84-PGA_2.csv',\n",
              " 'ruptures_2.csv']"
            ]
          },
          "metadata": {
            "tags": []
          },
          "execution_count": 27
        }
      ]
    },
    {
      "cell_type": "code",
      "metadata": {
        "id": "wegOtULbsJPt",
        "colab_type": "code",
        "colab": {}
      },
      "source": [
        ""
      ],
      "execution_count": null,
      "outputs": []
    }
  ]
}